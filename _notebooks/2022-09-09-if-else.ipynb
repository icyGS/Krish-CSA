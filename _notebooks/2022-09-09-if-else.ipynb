{
 "cells": [
  {
   "cell_type": "markdown",
   "metadata": {},
   "source": [
    "# Ifs and Expressions Lesson\n",
    "\n",
    "- toc: true \n",
    "- badges: true\n",
    "- comments: true\n",
    "- categories: [college board]\n",
    "\n"
   ]
  },
  {
   "cell_type": "markdown",
   "metadata": {},
   "source": [
    "### if statement\n",
    "\n",
    "An if loop will run if a certain condition is met (a>0, etc.)."
   ]
  },
  {
   "cell_type": "code",
   "execution_count": 1,
   "metadata": {},
   "outputs": [
    {
     "name": "stdout",
     "output_type": "stream",
     "text": [
      "Still greater than 0!\n"
     ]
    }
   ],
   "source": [
    "int n = 5;\n",
    "\n",
    "if (n>0){\n",
    "    System.out.println(\"Greater than 0!\"); //since 5>0, it is printing that.\n",
    "}"
   ]
  },
  {
   "cell_type": "markdown",
   "metadata": {},
   "source": [
    "### if-else statements\n",
    "An if-else loop will run first test if something is true. If this is not true, it will perform another action, defined in the else portion of the if-else statement."
   ]
  },
  {
   "cell_type": "code",
   "execution_count": 4,
   "metadata": {},
   "outputs": [
    {
     "name": "stdout",
     "output_type": "stream",
     "text": [
      "Less than (or equal to) 15!\n"
     ]
    }
   ],
   "source": [
    "int n = 10;\n",
    "\n",
    "if (n>15){\n",
    "    System.out.println(\"Greater than 15!\");\n",
    "}\n",
    "else{\n",
    "    System.out.println(\"Less than (or equal to) 15!\"); //since n=10, it is less than 15\n",
    "}"
   ]
  },
  {
   "cell_type": "markdown",
   "metadata": {},
   "source": [
    "### if-else-if statements\n",
    "An if-elseif-else statement will first check if a certain condition is met. If that condition is not met, it will then check if another condition is met. If that condition is also not met, the final action in the else statement will be run."
   ]
  },
  {
   "cell_type": "code",
   "execution_count": 6,
   "metadata": {},
   "outputs": [
    {
     "name": "stdout",
     "output_type": "stream",
     "text": [
      "Greater than 10!\n"
     ]
    }
   ],
   "source": [
    "int n = 12;\n",
    "if (n>15){\n",
    "    System.out.println(\"Greater than 15!\");\n",
    "}\n",
    "else if (n>10){\n",
    "    System.out.println(\"Greater than 10!\");  //Since 12 is not greater than 15 but is greater than 10, it is printed that it is greater than 10. \n",
    "}\n",
    "else{\n",
    "    System.out.println(\"Less than or equal to 10!\");\n",
    "}"
   ]
  },
  {
   "cell_type": "markdown",
   "metadata": {},
   "source": [
    "### Switch Case\n",
    "Switch case is basically where a condition is checked multiple times in multiple \"cases\". This can have many uses similar to that of if-elseif-else loops but can have different uses. "
   ]
  },
  {
   "cell_type": "code",
   "execution_count": 14,
   "metadata": {},
   "outputs": [
    {
     "name": "stdout",
     "output_type": "stream",
     "text": [
      "Greater than 11!\n"
     ]
    }
   ],
   "source": [
    "int n = 12;\n",
    "if (n>15){\n",
    "    System.out.println(\"Greater than 15!\");\n",
    "}\n",
    "else if (n>13){\n",
    "    System.out.println(\"Greater than 13!\");  \n",
    "}\n",
    "else if (n>12){\n",
    "    System.out.println(\"Greater than 12!\");  \n",
    "}\n",
    "else if (n>11){\n",
    "    System.out.println(\"Greater than 11!\");  //Since 12 is not greater than 15 but is greater than 11, it is printed that it is greater than 10. \n",
    "}\n",
    "else{\n",
    "    System.out.println(\"Less than or equal to 10!\");\n",
    "}"
   ]
  },
  {
   "cell_type": "markdown",
   "metadata": {},
   "source": [
    "This same process can be repeated using switch-case instead"
   ]
  },
  {
   "cell_type": "code",
   "execution_count": 28,
   "metadata": {},
   "outputs": [
    {
     "name": "stdout",
     "output_type": "stream",
     "text": [
      "greater than 11\n"
     ]
    }
   ],
   "source": [
    "int n = 12;\n",
    "String output;\n",
    "switch (n){\n",
    "    case 9:\n",
    "        output = \"greater than 8\";\n",
    "        break;\n",
    "    case 10:\n",
    "        output = \"greater than 9\";\n",
    "        break;\n",
    "    case 11:\n",
    "        output = \"greater than 10\";\n",
    "        break;\n",
    "    case 12:\n",
    "        output = \"greater than 11\";\n",
    "        break;\n",
    "\n",
    "}\n",
    "System.out.println(output);"
   ]
  },
  {
   "cell_type": "markdown",
   "metadata": {},
   "source": [
    "### De Morgan's Law\n",
    "\n",
    "De Morgan's law states that Not (A and B) is the same as Not A or Not B. An example of this is I will not drink water and eat a table means the same thing is I will either not drink water or eat a table."
   ]
  },
  {
   "cell_type": "code",
   "execution_count": 38,
   "metadata": {},
   "outputs": [],
   "source": [
    "boolean A = true;\n",
    "boolean B = true;"
   ]
  },
  {
   "cell_type": "code",
   "execution_count": 42,
   "metadata": {},
   "outputs": [
    {
     "name": "stdout",
     "output_type": "stream",
     "text": [
      "A and B are true\n"
     ]
    }
   ],
   "source": [
    "if (!(A && B)){\n",
    "    System.out.println(\"A and B both are false\");\n",
    "}\n",
    "else{\n",
    "    System.out.println(\"A and B are true\");\n",
    "}"
   ]
  },
  {
   "cell_type": "code",
   "execution_count": 43,
   "metadata": {},
   "outputs": [
    {
     "name": "stdout",
     "output_type": "stream",
     "text": [
      "A and B are true\n"
     ]
    }
   ],
   "source": [
    "if (!A || !B){\n",
    "    System.out.println(\"A and B both are false\");\n",
    "}\n",
    "else{\n",
    "    System.out.println(\"A and B are true\");\n",
    "}"
   ]
  },
  {
   "cell_type": "markdown",
   "metadata": {},
   "source": [
    "As we can see, both of the if statements provide the same output, proving to us that De Morgan's law is true."
   ]
  }
 ],
 "metadata": {
  "kernelspec": {
   "display_name": "Java",
   "language": "java",
   "name": "java"
  },
  "language_info": {
   "codemirror_mode": "java",
   "file_extension": ".jshell",
   "mimetype": "text/x-java-source",
   "name": "java",
   "pygments_lexer": "java",
   "version": "17.0.4.1+1-LTS-2"
  },
  "orig_nbformat": 4,
  "vscode": {
   "interpreter": {
    "hash": "aee8b7b246df8f9039afb4144a1f6fd8d2ca17a180786b69acc140d282b71a49"
   }
  }
 },
 "nbformat": 4,
 "nbformat_minor": 2
}
