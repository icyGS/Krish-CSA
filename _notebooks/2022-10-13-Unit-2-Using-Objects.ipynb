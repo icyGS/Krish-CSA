{
 "cells": [
  {
   "cell_type": "markdown",
   "metadata": {},
   "source": [
    "# Unit 2 Using Objects\n",
    "\n",
    "- toc: true \n",
    "- badges: true\n",
    "- comments: true\n",
    "- categories: [college board]"
   ]
  },
  {
   "cell_type": "markdown",
   "metadata": {},
   "source": [
    "## OOP\n",
    "- Programming paradigm around objects\n",
    "- Compartmentalize data and function in such a way that data and the functions that operate on the data are bound together\n",
    "## Classes\n",
    "- Classes are a template \n",
    "- Objects in the same class will share common methods and attributes\n",
    "- Fruit example\n",
    "## Creating an Object\n",
    "- Members methods constructors\n",
    "- Initialized by calling the class constructor \n",
    "- Access modifier \n",
    "- return type\n",
    "- method name\n",
    "- parameter list\n",
    "- exception list\n",
    "- method body "
   ]
  },
  {
   "cell_type": "code",
   "execution_count": null,
   "metadata": {},
   "outputs": [],
   "source": [
    "Painter mypainter = new Painter();"
   ]
  },
  {
   "cell_type": "markdown",
   "metadata": {},
   "source": [
    "Example of declaring methods"
   ]
  },
  {
   "cell_type": "code",
   "execution_count": null,
   "metadata": {},
   "outputs": [],
   "source": [
    "public int max (int x, int y){\n",
    "    if(x>y)\n",
    "        return x;\n",
    "    else\n",
    "        return y;\n",
    "}"
   ]
  },
  {
   "cell_type": "markdown",
   "metadata": {},
   "source": [
    "## Calling Methods\n",
    "- Allows code reuse for optimization and organization \n",
    "- Remember semicolons\n",
    "- objectReference.methodName(parameters);\n",
    "- Import math class to use the functions in that class"
   ]
  }
 ],
 "metadata": {
  "kernelspec": {
   "display_name": "Java",
   "language": "java",
   "name": "java"
  },
  "language_info": {
   "name": "java",
   "version": "3.9.5"
  },
  "orig_nbformat": 4,
  "vscode": {
   "interpreter": {
    "hash": "aee8b7b246df8f9039afb4144a1f6fd8d2ca17a180786b69acc140d282b71a49"
   }
  }
 },
 "nbformat": 4,
 "nbformat_minor": 2
}
