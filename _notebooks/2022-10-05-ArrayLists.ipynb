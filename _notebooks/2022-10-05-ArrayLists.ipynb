{
 "cells": [
  {
   "cell_type": "markdown",
   "metadata": {},
   "source": [
    "# Array Lists\n",
    "\n",
    "- toc: true \n",
    "- badges: true\n",
    "- comments: true\n",
    "- categories: [college board]"
   ]
  },
  {
   "cell_type": "markdown",
   "metadata": {},
   "source": [
    "## What is an Array List?\n",
    "\n",
    "An array list is basically an array that you can change the size of. This is unlike normal arrays, as they have their size set from the start and you cannot change the preassigned size of that array.\n",
    "\n",
    "## Application to Science Olympiad Website\n",
    "\n",
    "Since we are making a Science Olympiad Website anyways, it would be great to get some of it started here so that we can get a bit of a head start on some of the things that we need to do to make this a fully functioning website. "
   ]
  },
  {
   "cell_type": "code",
   "execution_count": 47,
   "metadata": {
    "vscode": {
     "languageId": "java"
    }
   },
   "outputs": [
    {
     "name": "stdout",
     "output_type": "stream",
     "text": [
      "Krish\tPatil\tLeadership\t11\tkrishpatil1019@gmail.com\n",
      "Don\tTran\tLeadership\t11\tdonqt@gmail.com\n",
      "Rohan\tGaikwad\tVice President\t11\tgaikwadrohan326@gmail.com\n",
      "Audrey\tZeng\tPresident\t12\taudreyhuaxia@gmail.com \n"
     ]
    }
   ],
   "source": [
    "import java.util.ArrayList;\n",
    "import java.util.Collections;\n",
    "import java.util.List;\n",
    "\n",
    "public class Member{\n",
    "    private String firstname;\n",
    "    private String lastname;\n",
    "    private String role;\n",
    "    private int grade;\n",
    "    private String email;\n",
    "\n",
    "    public Member(String firstname, String lastname, String role, int grade, String email){\n",
    "        this.firstname = firstname;\n",
    "        this.lastname = lastname;\n",
    "        this.role = role;\n",
    "        this.grade = grade;\n",
    "        this.email = email;\n",
    "    }\n",
    "\n",
    "    public String toString() {\n",
    "        return String.format(\"%s\\t%s\\t%s\\t%d\\t%s\", firstname, lastname, role, grade, email);\n",
    "    }\n",
    "\n",
    "    public static void main(String[] args){\n",
    "        List<Member> listMembers = new ArrayList<Member>();\n",
    "\n",
    "        listMembers.add(new Member(\"Krish\", \"Patil\", \"Leadership\", 11, \"krishpatil1019@gmail.com\"));\n",
    "        listMembers.add(new Member(\"Don\", \"Tran\", \"Leadership\", 11, \"donqt@gmail.com\"));\n",
    "        listMembers.add(new Member(\"Rohan\", \"Gaikwad\", \"Vice President\", 11, \"gaikwadrohan326@gmail.com\"));\n",
    "        listMembers.add(new Member(\"Audrey\", \"Zeng\", \"President\", 12, \"audreyhuaxia@gmail.com \"));\n",
    "        \n",
    "\n",
    "        for (Member n : listMembers){\n",
    "            System.out.println(n);\n",
    "        }\n",
    "    }\n",
    "}\n",
    "\n",
    "Member.main(null);"
   ]
  },
  {
   "cell_type": "markdown",
   "metadata": {},
   "source": [
    "Here we can see some of our members along with their roles, grade, and email!"
   ]
  }
 ],
 "metadata": {
  "kernelspec": {
   "display_name": "Java",
   "language": "java",
   "name": "java"
  },
  "language_info": {
   "codemirror_mode": "java",
   "file_extension": ".jshell",
   "mimetype": "text/x-java-source",
   "name": "Java",
   "pygments_lexer": "java",
   "version": "17.0.4.1+1-LTS-2"
  },
  "orig_nbformat": 4,
  "vscode": {
   "interpreter": {
    "hash": "aee8b7b246df8f9039afb4144a1f6fd8d2ca17a180786b69acc140d282b71a49"
   }
  }
 },
 "nbformat": 4,
 "nbformat_minor": 2
}
