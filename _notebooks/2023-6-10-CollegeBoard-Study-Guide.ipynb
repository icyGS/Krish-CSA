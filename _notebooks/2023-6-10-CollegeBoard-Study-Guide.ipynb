{
 "cells": [
  {
   "cell_type": "markdown",
   "metadata": {},
   "source": [
    "# College Board Study Guide\n",
    "\n",
    "- toc: true \n",
    "- badges: true\n",
    "- comments: true\n",
    "- categories: [college board]"
   ]
  },
  {
   "cell_type": "markdown",
   "metadata": {},
   "source": [
    "# Unit 1: Primitives \n",
    "\n",
    "This unit is a very important unit to all of Java. Without primitives, literally nothing could be calculated or produced, and the whole purpose of coding would be gone. While it may be the simplest of the Units, it one hundred percent is the most important. It is the backbone of this entire course, so we should make sure that our understanding of the language is as high as possible.\n",
    "\n",
    "You can find my blog post about it [here](https://icygs.github.io/Krish-CSA/college%20board/2022/10/12/Unit-1-Primitives.html)!"
   ]
  },
  {
   "cell_type": "code",
   "execution_count": null,
   "metadata": {},
   "outputs": [],
   "source": []
  }
 ],
 "metadata": {
  "kernelspec": {
   "display_name": "Java",
   "language": "java",
   "name": "java"
  },
  "language_info": {
   "name": "java",
   "version": "3.9.5"
  },
  "orig_nbformat": 4,
  "vscode": {
   "interpreter": {
    "hash": "aee8b7b246df8f9039afb4144a1f6fd8d2ca17a180786b69acc140d282b71a49"
   }
  }
 },
 "nbformat": 4,
 "nbformat_minor": 2
}
