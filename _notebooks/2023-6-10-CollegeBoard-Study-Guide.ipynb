{
 "cells": [
  {
   "cell_type": "markdown",
   "metadata": {},
   "source": [
    "# College Board Study Guide\n",
    "\n",
    "- toc: true \n",
    "- badges: true\n",
    "- comments: true\n",
    "- categories: [college board]"
   ]
  },
  {
   "cell_type": "markdown",
   "metadata": {},
   "source": [
    "# Unit 1: Primitives \n",
    "\n",
    "This unit is a very important unit to all of Java. Without primitives, literally nothing could be calculated or produced, and the whole purpose of coding would be gone. While it may be the simplest of the Units, it one hundred percent is the most important. It is the backbone of this entire course, so we should make sure that our understanding of the language is as high as possible.\n",
    "\n",
    "You can find my blog post about it [here](https://icygs.github.io/Krish-CSA/college%20board/2022/10/12/Unit-1-Primitives.html)!\n",
    "\n",
    "# Unit 2: Using Objects\n",
    "\n",
    "A very important part of Java is known as Object Oriented Programming. In this unit, we further explored this concept. This allows Java to be a very powerful language for backend development especially, with many uses and whatnot. OOP allows Java to be very good at things like robotics as a programming language for robots. \n",
    "\n",
    "You can find my blog post about it [here](https://icygs.github.io/Krish-CSA/college%20board/2022/10/13/Unit-2-Using-Objects.html)!\n",
    "\n",
    "# Unit 3: Booleans and If statements\n",
    "\n",
    "Another powerful tool in Java that can be found in most code segments. If statements can be used for many purposes, from own functionality to error detection, they are great. Booleans are basically a true or false, no in between. This allows them to be useful for if statements (hence why we learn them together) \n",
    "\n",
    "You can find my blog post about it [here](https://icygs.github.io/Krish-CSA/college%20board/2022/10/18/Unit-3-Booleans-and-If-Statements.html)!\n",
    "\n",
    "# Unit 4: Iteration\n",
    "\n",
    "Iteration is very useful especially with loops. In this unit, iteration is covered along with loops. This can be used in arrays and other things that require iteration to work more efficiently. This condenses possible hundreds or thousands of lines of code into a mere few, as it is a code segment that repeats over and over again. Here, runtime and whatnot is also described as it is relevant to this topic. \n",
    "\n",
    "You can find my blog post about it [here](https://icygs.github.io/Krish-CSA/college%20board/2022/10/19/Unit-4-Iteration.html)\n",
    "\n",
    "# Unit 5: Classes\n",
    "\n",
    "Classes make up Java code. You can see them everywhere as everything is contained within a class. Without classes there would be no Java. "
   ]
  }
 ],
 "metadata": {
  "kernelspec": {
   "display_name": "Java",
   "language": "java",
   "name": "java"
  },
  "language_info": {
   "name": "java",
   "version": "3.9.5"
  },
  "orig_nbformat": 4,
  "vscode": {
   "interpreter": {
    "hash": "aee8b7b246df8f9039afb4144a1f6fd8d2ca17a180786b69acc140d282b71a49"
   }
  }
 },
 "nbformat": 4,
 "nbformat_minor": 2
}
