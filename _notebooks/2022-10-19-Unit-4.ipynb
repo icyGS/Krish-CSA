{
 "cells": [
  {
   "cell_type": "markdown",
   "metadata": {},
   "source": [
    "# Unit 4: Iteration Homework\n",
    "\n",
    "- toc: true \n",
    "- badges: true\n",
    "- comments: true\n",
    "- categories: [college board]"
   ]
  },
  {
   "cell_type": "markdown",
   "metadata": {},
   "source": [
    "# Part 1\n",
    "Write a program where a random number is generated. Then the user tries to guess the number. If they guess too high display something to let them know, and same for if they guess a number that is too low. The loop must iterate until the number is guessed correctly."
   ]
  },
  {
   "cell_type": "code",
   "execution_count": 15,
   "metadata": {
    "vscode": {
     "languageId": "java"
    }
   },
   "outputs": [
    {
     "name": "stdout",
     "output_type": "stream",
     "text": [
      "A number is chosen between 1 to 100.Guess the number within 5 trials.\n",
      "Guess the number:\n",
      "The number is greater than 4\n",
      "Guess the number:\n",
      "The number is greater than 4\n",
      "Guess the number:\n",
      "The number is greater than 4\n",
      "Guess the number:\n",
      "The number is greater than 4\n",
      "Guess the number:\n",
      "You have exhausted 5 trials.\n",
      "The number was 88\n"
     ]
    }
   ],
   "source": [
    "import java.util.Scanner;\n",
    " \n",
    "public class GFG {\n",
    "    public static void\n",
    "    guessingNumberGame()\n",
    "    {\n",
    "        // Scanner Class\n",
    "        Scanner sc = new Scanner(System.in);\n",
    " \n",
    "        // Generate the numbers\n",
    "        int number = 1 + (int)(100 * Math.random());\n",
    "        int K = 5;\n",
    " \n",
    "        int i, guess;\n",
    " \n",
    "        System.out.println(\n",
    "            \"A number is chosen\"\n",
    "            + \" between 1 to 100.\"\n",
    "            + \"Guess the number\"\n",
    "            + \" within 5 trials.\");\n",
    " \n",
    "        // Iterate over K Trials\n",
    "        for (i = 0; i < K; i++) {\n",
    "            System.out.println(\"Guess the number:\");\n",
    "            guess = sc.nextInt();\n",
    "            if (number == guess) {\n",
    "                System.out.println(\"Congratulations!\"+ \" You guessed the number.\");\n",
    "                break;\n",
    "            }\n",
    "            else if (number > guess && i != K - 1) {\n",
    "                System.out.println(\"The number is \" + \"greater than \" + guess);\n",
    "            }\n",
    "            else if (number < guess && i != K - 1) {\n",
    "                System.out.println(\"The number is\" + \" less than \" + guess);\n",
    "            }\n",
    "        }\n",
    " \n",
    "        if (i == K) {\n",
    "            System.out.println(\"You have exhausted \" + K + \" trials.\");\n",
    " \n",
    "            System.out.println(\"The number was \" + number);\n",
    "        }\n",
    "    }\n",
    "\n",
    "    public static void main(String arg[])\n",
    "    {\n",
    " \n",
    "        // Function Call\n",
    "        guessingNumberGame();\n",
    "    }\n",
    "}\n",
    "GFG.main(null);\n"
   ]
  }
 ],
 "metadata": {
  "kernelspec": {
   "display_name": "Java",
   "language": "java",
   "name": "java"
  },
  "language_info": {
   "codemirror_mode": "java",
   "file_extension": ".jshell",
   "mimetype": "text/x-java-source",
   "name": "Java",
   "pygments_lexer": "java",
   "version": "17.0.4.1+1-LTS-2"
  },
  "orig_nbformat": 4
 },
 "nbformat": 4,
 "nbformat_minor": 2
}
