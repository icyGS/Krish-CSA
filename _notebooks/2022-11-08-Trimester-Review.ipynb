{
 "cells": [
  {
   "cell_type": "markdown",
   "metadata": {},
   "source": [
    "# Trimester Review \n",
    "\n",
    "- toc: true \n",
    "- badges: true\n",
    "- comments: true\n",
    "- categories: [finals]"
   ]
  },
  {
   "cell_type": "markdown",
   "metadata": {},
   "source": [
    "This trimester hs been a very informative one. I have learned not only the skills of a coder but the skills of a worker. I have learned how people in the work force work and the things that go into working as a team. Project based learning has been a truly valuable experience, as I have learned that success is not possible without all members of a team being part of it. The scrum board was very useful as it allowed us to organize everyone and delegate tasks. As scrum master, I was in charge of managing everyone and delegating these tasks. Deciding who got what task was hard because it was hard to equally split up the work. Apart from this, there was a lot of Java that I learned throughout my time this trimester. While I have used Python in the past, Java was a very different experience. Learning Object Oriented Programming was a challenge as it was something that I was unfamiliar with, but I was still able to do it. The rest of the concepts like arrays and iteration and whatnot were not foreign to me, it was just mainly learning the syntax and whatnot for those. I took many notes throughout the lessons by fellow students in the class to fully learn Java.\n",
    "\n",
    "[Unit 1](https://icygs.github.io/Krish-CSA/college%20board/2022/10/12/Unit-1-Primitives.html)\n",
    "[Unit 2](https://icygs.github.io/Krish-CSA/college%20board/2022/10/13/Unit-2-Using-Objects.html)\n",
    "[Unit 3](https://icygs.github.io/Krish-CSA/college%20board/2022/10/18/Unit-3-Booleans-and-If-Statements.html)\n",
    "[Unit 4](https://icygs.github.io/Krish-CSA/college%20board/2022/10/18/Unit-3-FRQs.html)\n",
    "[Unit 6](https://icygs.github.io/Krish-CSA/final/2022/10/25/Unit-6-Arrays.html)\n",
    "\n",
    "While we did learn these topics, there were still 4 more topics that we did not get taught to us yet. \n",
    "The topic that I found the most interesting was array lists. I found it quite fascinating how the image assignment was in particular. It was my favorite assignment of the trimester as I think that it truly brought out the creativity in people. I found it really interesting how people found so many different solutions for the same goal, showing how diverse coding really is. My least favorite assignment of the trimester on the other hand was the bash one. I for some reason could not wrap my head around it and still have some trouble doing so, so I should really focus on learning how bash works next tri.\n",
    "\n",
    "Overall this trimester has been a very good one, which has taught me so much. Excited for another trimester of code code code!"
   ]
  }
 ],
 "metadata": {
  "kernelspec": {
   "display_name": "Java",
   "language": "java",
   "name": "java"
  },
  "language_info": {
   "name": "java",
   "version": "3.9.5"
  },
  "orig_nbformat": 4,
  "vscode": {
   "interpreter": {
    "hash": "aee8b7b246df8f9039afb4144a1f6fd8d2ca17a180786b69acc140d282b71a49"
   }
  }
 },
 "nbformat": 4,
 "nbformat_minor": 2
}
