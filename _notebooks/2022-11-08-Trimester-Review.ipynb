{
 "cells": [
  {
   "cell_type": "markdown",
   "metadata": {},
   "source": [
    "# Trimester Review \n",
    "\n",
    "- toc: true \n",
    "- badges: true\n",
    "- comments: true\n",
    "- categories: [finals]"
   ]
  },
  {
   "cell_type": "markdown",
   "metadata": {},
   "source": [
    "This trimester hs been a very informative one. I have learned not only the skills of a coder but the skills of a worker. I have learned how people in the work force work and the things that go into working as a team. Project based learning has been a truly valuable experience, as I have learned that success is not possible without all members of a team being part of it. The scrum board was very useful as it allowed us to organize everyone and delegate tasks. As scrum master, I was in charge of managing everyone and delegating these tasks. Deciding who got what task was hard because it was hard to equally split up the work. Apart from this, there was a lot of Java that I learned throughout my time this trimester. While I have used Python in the past, Java was a very different experience. Learning Object Oriented Programming was a challenge as it was something that I was unfamiliar with, but I was still able to do it. The rest of the concepts like arrays and iteration and whatnot were not foreign to me, it was just mainly learning the syntax and whatnot for those. I took many notes throughout the lessons by fellow students in the class to fully learn Java.\n",
    "\n",
    "[Unit 1](https://icygs.github.io/Krish-CSA/college%20board/2022/10/12/Unit-1-Primitives.html)\n",
    "[Unit 2](https://icygs.github.io/Krish-CSA/college%20board/2022/10/13/Unit-2-Using-Objects.html)\n",
    "[Unit 3](https://icygs.github.io/Krish-CSA/college%20board/2022/10/18/Unit-3-Booleans-and-If-Statements.html)"
   ]
  }
 ],
 "metadata": {
  "kernelspec": {
   "display_name": "Java",
   "language": "java",
   "name": "java"
  },
  "language_info": {
   "name": "java",
   "version": "3.9.5"
  },
  "orig_nbformat": 4,
  "vscode": {
   "interpreter": {
    "hash": "aee8b7b246df8f9039afb4144a1f6fd8d2ca17a180786b69acc140d282b71a49"
   }
  }
 },
 "nbformat": 4,
 "nbformat_minor": 2
}
