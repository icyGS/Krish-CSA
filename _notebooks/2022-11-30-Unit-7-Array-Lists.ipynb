{
 "cells": [
  {
   "cell_type": "markdown",
   "metadata": {},
   "source": [
    "# Unit 7 Array Lists\n",
    "\n",
    "- toc: true \n",
    "- badges: true\n",
    "- comments: true\n",
    "- categories: [college board]"
   ]
  },
  {
   "cell_type": "markdown",
   "metadata": {},
   "source": [
    "# Intro\n",
    "- A reference type\n",
    "- Array cannot be modified while ArrayLists can change their size\n",
    "- Can add, find size, clear, remove a index, get an index, or check if a list is empty\n",
    "\n",
    "## Traversing ArrayLists\n",
    "- Using for loop\n",
    "- Using while loop\n",
    "- Enhanced for loop\n",
    "  - example"
   ]
  },
  {
   "cell_type": "code",
   "execution_count": null,
   "metadata": {
    "vscode": {
     "languageId": "java"
    }
   },
   "outputs": [],
   "source": [
    "for(String name:roster){}"
   ]
  },
  {
   "cell_type": "markdown",
   "metadata": {},
   "source": [
    "## Developing Algorithms with Array Lists\n",
    "- arraylist can change size so a lot more versatile than an array\n",
    "\n",
    "## Searching\n",
    "- data: arrays, lists, queue, stack, etc\n",
    "- Loop with an if statement inside, going through each index and checking if a certain condition is met\n",
    "- Order matters occasionally \n",
    "\n",
    "## Sorting\n",
    "- Sorting can work in either ascending or descending order"
   ]
  },
  {
   "cell_type": "markdown",
   "metadata": {},
   "source": [
    "# Homework!"
   ]
  },
  {
   "cell_type": "code",
   "execution_count": 28,
   "metadata": {
    "vscode": {
     "languageId": "java"
    }
   },
   "outputs": [
    {
     "name": "stdout",
     "output_type": "stream",
     "text": [
      "Reverse: \n",
      "USA\n",
      "Russia\n",
      "France\n",
      "China\n",
      "----------\n",
      "China\n",
      "Russia\n",
      "France\n",
      "USA\n"
     ]
    }
   ],
   "source": [
    "import java.util.ArrayList;\n",
    "import java.util.Collections;\n",
    "\n",
    "ArrayList<String> countries = new ArrayList<>();\n",
    "countries.add(\"USA\");\n",
    "countries.add(\"China\");\n",
    "countries.add(\"Russia\");\n",
    "countries.add(\"France\");\n",
    "\n",
    "public void print(ArrayList<String> countries){\n",
    "    for (String str : countries){\n",
    "        System.out.println(str);\n",
    "    }\n",
    "}\n",
    "\n",
    "Collections.sort(countries, Collections.reverseOrder());\n",
    "System.out.println(\"Reverse: \");\n",
    "print(countries);\n",
    "System.out.println(\"----------\");\n",
    "\n",
    "String tmp = countries.get(0);\n",
    "countries.set(0, countries.get(countries.size()-1));\n",
    "countries.set(countries.size()-1, tmp);\n",
    "print(countries);"
   ]
  }
 ],
 "metadata": {
  "kernelspec": {
   "display_name": "Java",
   "language": "java",
   "name": "java"
  },
  "language_info": {
   "codemirror_mode": "java",
   "file_extension": ".jshell",
   "mimetype": "text/x-java-source",
   "name": "Java",
   "pygments_lexer": "java",
   "version": "17.0.5+9-LTS-191"
  },
  "orig_nbformat": 4,
  "vscode": {
   "interpreter": {
    "hash": "aee8b7b246df8f9039afb4144a1f6fd8d2ca17a180786b69acc140d282b71a49"
   }
  }
 },
 "nbformat": 4,
 "nbformat_minor": 2
}
