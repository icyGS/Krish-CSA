{
 "cells": [
  {
   "attachments": {},
   "cell_type": "markdown",
   "metadata": {},
   "source": [
    "# Tech Talk 1 \n",
    "\n",
    "- toc: true \n",
    "- badges: true\n",
    "- comments: true\n",
    "- categories: [college board]"
   ]
  },
  {
   "attachments": {},
   "cell_type": "markdown",
   "metadata": {},
   "source": [
    "## Extra Credit Seed Opportunity\n",
    "- Write a sample binary addition 1 + 1 = 10\n",
    "- Have Java Code cell on screen at start of lecture\n",
    "- Don't tell anyone"
   ]
  },
  {
   "cell_type": "code",
   "execution_count": 29,
   "metadata": {},
   "outputs": [
    {
     "name": "stdout",
     "output_type": "stream",
     "text": [
      "Enter The First and Second Numbers = \n",
      "1\n",
      "1\n",
      "\n",
      "The Sum = 10"
     ]
    }
   ],
   "source": [
    "import java.util.Scanner;\n",
    "\n",
    "public class BinaryAdding {\n",
    "\n",
    "\tprivate static Scanner scanner;\n",
    "\t\n",
    "\tpublic static void main(String[] args) {\n",
    "\n",
    "\t\tscanner = new Scanner(System.in);\n",
    "\t\t\n",
    "\t\tSystem.out.println(\"Enter first and second numbers\");\t\n",
    "\t\tString b1 = scanner.nextLine();\n",
    "\t\tSystem.out.println(b1);\n",
    "\t\tString b2 = scanner.nextLine();\n",
    "\t\tSystem.out.println(b2);\n",
    "\t\t\n",
    "\t\tint num1 = Integer.parseInt(b1, 2);\n",
    "\t\tint num2 = Integer.parseInt(b2, 2);\n",
    "\t\t\n",
    "\t\tint output = num1 + num2;\n",
    "\t\t\n",
    "\t\tSystem.out.print(\"\\nThe Sum = \");\n",
    "\t\tSystem.out.print(Integer.toBinaryString(output));\n",
    "\t}\n",
    "}\n",
    "\n",
    "BinaryAdding.main(null);"
   ]
  }
 ],
 "metadata": {
  "kernelspec": {
   "display_name": "Java",
   "language": "java",
   "name": "java"
  },
  "language_info": {
   "codemirror_mode": "java",
   "file_extension": ".jshell",
   "mimetype": "text/x-java-source",
   "name": "java",
   "pygments_lexer": "java",
   "version": "17.0.5+9-LTS-191"
  },
  "orig_nbformat": 4
 },
 "nbformat": 4,
 "nbformat_minor": 2
}
