{
 "cells": [
  {
   "attachments": {},
   "cell_type": "markdown",
   "metadata": {},
   "source": [
    "# Unit 10 Recursion\n",
    "\n",
    "- toc: true \n",
    "- badges: true\n",
    "- comments: true\n",
    "- categories: [college board]"
   ]
  },
  {
   "cell_type": "code",
   "execution_count": 15,
   "metadata": {
    "vscode": {
     "languageId": "java"
    }
   },
   "outputs": [
    {
     "name": "stdout",
     "output_type": "stream",
     "text": [
      "Enter first binary number: \n",
      "1\n",
      "Enter second binary number: \n",
      "2\n",
      "Output: \n",
      "11\n",
      "\n"
     ]
    }
   ],
   "source": [
    "import java.util.Scanner;\n",
    "public class BinaryAddition {\n",
    "   public static void main(String[] args){\n",
    "\t//Two variables to hold two input binary numbers\t \n",
    "\tlong b1, b2;\n",
    "\tint i = 0, carry = 0;\n",
    "\n",
    "\t//This is to hold the output binary number\n",
    "\tint[] sum = new int[10];\n",
    "\n",
    "\t//To read the input binary numbers entered by user\n",
    "\tScanner scanner = new Scanner(System.in);\n",
    "\n",
    "\t//getting first binary number from user\n",
    "\tSystem.out.println(\"Enter first binary number: \");\n",
    "\tb1 = scanner.nextLong();\n",
    "    System.out.println(b1);\n",
    "\t//getting second binary number from user\n",
    "\tSystem.out.println(\"Enter second binary number: \");\n",
    "\tb2 = scanner.nextLong();\n",
    "    System.out.println(b2);\n",
    "\n",
    "\t//closing scanner after use to avoid memory leak\n",
    "\tscanner.close();\n",
    "\twhile (b1 != 0 || b2 != 0) \n",
    "\t{\n",
    "\t\tsum[i++] = (int)((b1 % 10 + b2 % 10 + carry) % 2);\n",
    "\t\tcarry = (int)((b1 % 10 + b2 % 10 + carry) / 2);\n",
    "\t\tb1 = b1 / 10;\n",
    "\t\tb2 = b2 / 10;\n",
    "\t}\n",
    "\tif (carry != 0) {\n",
    "\t\tsum[i++] = carry;\n",
    "\t}\n",
    "\t--i;\n",
    "\tSystem.out.println(\"Output: \");\n",
    "\twhile (i >= 0) {\n",
    "\t\tSystem.out.print(sum[i--]);\n",
    "\t}\n",
    "\tSystem.out.println(\"\\n\");  \n",
    "   }\n",
    "}\n",
    "\n",
    "BinaryAddition.main(null);"
   ]
  }
 ],
 "metadata": {
  "kernelspec": {
   "display_name": "Java",
   "language": "java",
   "name": "java"
  },
  "language_info": {
   "codemirror_mode": "java",
   "file_extension": ".jshell",
   "mimetype": "text/x-java-source",
   "name": "Java",
   "pygments_lexer": "java",
   "version": "17.0.5+9-LTS-191"
  },
  "orig_nbformat": 4
 },
 "nbformat": 4,
 "nbformat_minor": 2
}
