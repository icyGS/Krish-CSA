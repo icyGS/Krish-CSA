{
 "cells": [
  {
   "cell_type": "markdown",
   "metadata": {},
   "source": [
    "# Unit 8 2D Arrays\n",
    "\n",
    "- toc: true \n",
    "- badges: true\n",
    "- comments: true\n",
    "- categories: [college board]"
   ]
  },
  {
   "cell_type": "markdown",
   "metadata": {},
   "source": [
    "# 2d Array\n",
    "- Multi dimensional\n",
    "- 8-10% of the college board test\n",
    "- Traversing\n",
    "- How to call one\n",
    "\n",
    "# Creating A 2D Array\n",
    "- Instead of one set of brackets, you have 2 sets of brackets\n",
    "\n",
    "# Accessing and changing elements\n",
    "- Put indexes into the brackets \n",
    "  - 2 dimensional aspect\n",
    "\n",
    "# Printing with for loop\n",
    "- Iterate through both i and j indexes with for loop \n",
    "- Can display values both backwards and upside down\n",
    "\n",
    "# Homework\n",
    "- Create a class for 2D array learning.\n",
    "- Create a method too initialize a 2D array with arbitrary values\n",
    "- Create a method to reverse the 2D array and print out the values\n",
    "- Create a method that asks for the input of a position and it returns the corresponding value\n",
    "- Create a method that multiplies each value in a row and then adds all the products together\n",
    "- Create a new object to test out each method in the main function"
   ]
  },
  {
   "cell_type": "code",
   "execution_count": 13,
   "metadata": {
    "vscode": {
     "languageId": "java"
    }
   },
   "outputs": [
    {
     "name": "stdout",
     "output_type": "stream",
     "text": [
      "Reverse: \n",
      "16\n",
      "15\n",
      "14\n",
      "13\n",
      "12\n",
      "11\n",
      "10\n",
      "9\n",
      "8\n",
      "7\n",
      "6\n",
      "5\n",
      "4\n",
      "3\n",
      "2\n",
      "1\n"
     ]
    }
   ],
   "source": [
    "int[][] nums = {{1,2,3,4},{5,6,7,8},{9,10,11,12},{13,14,15,16}};\n",
    "\n",
    "System.out.println(\"Reverse: \");\n",
    "for(int i = nums.length-1; i >= 0; i--){\n",
    "    for(int j = nums[i].length-1; j>=0; j--){\n",
    "        System.out.println(nums[i][j]);\n",
    "    }\n",
    "}"
   ]
  },
  {
   "cell_type": "code",
   "execution_count": 43,
   "metadata": {
    "vscode": {
     "languageId": "java"
    }
   },
   "outputs": [
    {
     "name": "stdout",
     "output_type": "stream",
     "text": [
      "4 16 27 \n",
      "0 0 12 \n",
      "3 8 12 \n",
      "\n",
      "\n",
      "Reverse: \n",
      "12\n",
      "8\n",
      "3\n",
      "12\n",
      "0\n",
      "0\n",
      "27\n",
      "16\n",
      "4\n",
      "\n",
      "\n",
      "Input Row index: \n",
      "1\n",
      "Input Column index: \n",
      "1\n",
      "Output: \n",
      "0\n",
      "Sum of the products of each value in each row: \n",
      "2016\n"
     ]
    }
   ],
   "source": [
    "import java.util.Scanner;  \n",
    "\n",
    "public class Arrays{\n",
    "    int[][] nums;\n",
    "\n",
    "    public Arrays(){\n",
    "        int[][] tmp = new int[3][3];\n",
    "        for (int i = 0; i < tmp.length; i++){\n",
    "            for (int j = 0; j < tmp[i].length; j++){\n",
    "                tmp[i][j] = (j+1) * (short) (Math.random()*11);\n",
    "            }\n",
    "        }\n",
    "        this.nums = tmp;\n",
    "    }\n",
    "\n",
    "    public void print(){\n",
    "        for(int i = 0; i < nums.length; i++){\n",
    "            for(int j = 0; j < nums[i].length; j++){\n",
    "                System.out.print(nums[i][j] + \" \");\n",
    "            }\n",
    "\n",
    "            System.out.println();\n",
    "\n",
    "        }\n",
    "    }\n",
    "\n",
    "    public void reverse(){\n",
    "        System.out.println(\"\\n\\nReverse: \");\n",
    "        for(int i = nums.length-1; i >= 0; i--){\n",
    "            for(int j = nums[i].length-1; j>=0; j--){\n",
    "                System.out.println(nums[i][j]);\n",
    "            }\n",
    "        }\n",
    "        System.out.println(\"\\n\");\n",
    "    }\n",
    "\n",
    "    public void getIndex(){\n",
    "        Scanner scanner = new Scanner(System.in);\n",
    "        \n",
    "        System.out.println(\"Input Row index: \");\n",
    "        int rowIndex = scanner.nextInt();\n",
    "        System.out.println(rowIndex);\n",
    "\n",
    "        System.out.println(\"Input Column index: \");\n",
    "        int colIndex = scanner.nextInt();\n",
    "        System.out.println(colIndex);\n",
    "\n",
    "        System.out.println(\"Output: \");\n",
    "        System.out.println(nums[rowIndex][colIndex]);\n",
    "    }\n",
    "\n",
    "    public void sumRowProducts(){\n",
    "        int sum = 0;\n",
    "        System.out.println(\"Sum of the products of each value in each row: \");\n",
    "\n",
    "        for(int i = 0; i<nums.length; i++){\n",
    "            int product = 1;\n",
    "            for(int j = 0; j<nums[i].length; j++){\n",
    "                product *= nums[i][j];\n",
    "            }\n",
    "            sum += product;\n",
    "        }\n",
    "        System.out.println(sum);\n",
    "    }\n",
    "\n",
    "    public static void main(String[] args){\n",
    "        Arrays array = new Arrays();\n",
    "        array.print();\n",
    "        array.reverse();\n",
    "        array.getIndex();\n",
    "        array.sumRowProducts();\n",
    "    }\n",
    "}\n",
    "Arrays.main(null);"
   ]
  }
 ],
 "metadata": {
  "kernelspec": {
   "display_name": "Java",
   "language": "java",
   "name": "java"
  },
  "language_info": {
   "codemirror_mode": "java",
   "file_extension": ".jshell",
   "mimetype": "text/x-java-source",
   "name": "Java",
   "pygments_lexer": "java",
   "version": "17.0.5+9-LTS-191"
  },
  "orig_nbformat": 4,
  "vscode": {
   "interpreter": {
    "hash": "aee8b7b246df8f9039afb4144a1f6fd8d2ca17a180786b69acc140d282b71a49"
   }
  }
 },
 "nbformat": 4,
 "nbformat_minor": 2
}
