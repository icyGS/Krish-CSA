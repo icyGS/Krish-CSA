{
 "cells": [
  {
   "cell_type": "markdown",
   "metadata": {},
   "source": [
    "# Unit 8 2D Arrays\n",
    "\n",
    "- toc: true \n",
    "- badges: true\n",
    "- comments: true\n",
    "- categories: [college board]"
   ]
  },
  {
   "cell_type": "markdown",
   "metadata": {},
   "source": [
    "# 2d Array\n",
    "- Multi dimensional\n",
    "- 8-10% of the college board test\n",
    "- Traversing\n",
    "- How to call one\n",
    "\n",
    "# Creating A 2D Array\n",
    "- Instead of one set of brackets, you have 2 sets of brackets\n",
    "\n",
    "# Accessing and changing elements\n",
    "- Put indexes into the brackets \n",
    "  - 2 dimensional aspect\n",
    "\n",
    "# Printing with for loop\n",
    "- Iterate through both i and j indexes with for loop \n",
    "- Can display values both backwards and upside down\n",
    "\n",
    "# Homework"
   ]
  },
  {
   "cell_type": "code",
   "execution_count": null,
   "metadata": {},
   "outputs": [],
   "source": []
  }
 ],
 "metadata": {
  "kernelspec": {
   "display_name": "Java",
   "language": "java",
   "name": "java"
  },
  "language_info": {
   "name": "java",
   "version": "3.9.5"
  },
  "orig_nbformat": 4,
  "vscode": {
   "interpreter": {
    "hash": "aee8b7b246df8f9039afb4144a1f6fd8d2ca17a180786b69acc140d282b71a49"
   }
  }
 },
 "nbformat": 4,
 "nbformat_minor": 2
}
