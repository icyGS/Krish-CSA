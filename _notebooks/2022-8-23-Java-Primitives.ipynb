{
 "cells": [
  {
   "cell_type": "markdown",
   "metadata": {},
   "source": [
    "# Java Primitives Notebook \n",
    "\n",
    "- toc: true \n",
    "- badges: true\n",
    "- comments: true\n",
    "- categories: [biology]"
   ]
  },
  {
   "cell_type": "markdown",
   "metadata": {},
   "source": [
    "Define in a Class the following data types\n",
    "Demonstrate use of Primitives: int, double, boolean, string\n",
    "Demonstrate use of Wrapper Class object: String"
   ]
  },
  {
   "cell_type": "code",
   "execution_count": null,
   "metadata": {},
   "outputs": [],
   "source": [
    "public class Primitives{\n",
    "    int anInt = 50;\n",
    "    double aDouble = 5.5;\n",
    "    boolean aBoolean = true;\n",
    "    String aString = \"I love to code code code\";\n",
    "}\n",
    "\n",
    "System.out.println(anInt);\n",
    "System.out.println(aDouble);\n",
    "System.out.println(aBoolean);\n",
    "System.out.println(aString);"
   ]
  },
  {
   "cell_type": "markdown",
   "metadata": {},
   "source": [
    "### Standard Deviation Calculator"
   ]
  },
  {
   "cell_type": "markdown",
   "metadata": {},
   "source": [
    "This program asks for a list of numbers. When you are finished, input 0. It will then report Standard Deviation of this set of numbers.\n",
    "\n",
    "Note: This program was created to assist with an AP Biology Assignment where we had to calculate the Standard Deviation of a dataset. "
   ]
  },
  {
   "cell_type": "code",
   "execution_count": 56,
   "metadata": {},
   "outputs": [
    {
     "name": "stdout",
     "output_type": "stream",
     "text": [
      "Enter a Value, 0 to exit: 5.0\n",
      "Enter a Value, 0 to exit: 10.0\n",
      "Enter a Value, 0 to exit: 15.0\n",
      "Enter a Value, 0 to exit: 20.0\n",
      "Enter a Value, 0 to exit: 0.0\n",
      "Standard Deviation of dataset: 6.45\n"
     ]
    }
   ],
   "source": [
    "public class STDevCalculator {\n",
    "    ArrayList<Double> values;   //defines where values will go into\n",
    "\n",
    "\n",
    "    public STDevCalculator() {\n",
    "        this.values = new ArrayList<>();    \n",
    "        this.enterValues();\n",
    "    }\n",
    "\n",
    "    \n",
    "    private boolean isZero(double value){\n",
    "        double threshold = 0.001;\n",
    "        return value >= -threshold && value <= threshold;   //tests if the input is 0\n",
    "    }\n",
    "\n",
    "\n",
    "    private void enterValues() {\n",
    "        Scanner input;\n",
    "\n",
    "        while (true) {\n",
    "            input = new Scanner(System.in);\n",
    "            System.out.print(\"Enter a Value, 0 to exit: \");\n",
    "            try {\n",
    "                double sampleInputDouble = input.nextDouble();  //asks for a double to inputted \n",
    "                System.out.println(sampleInputDouble);\n",
    "                if (isZero(sampleInputDouble)) break;       \n",
    "                else this.values.add(sampleInputDouble);   \n",
    "            } catch (Exception e) {  \n",
    "                System.out.println(\"Not an double (form like 9.99), \" + e); //has to be in double form\n",
    "            }\n",
    "            input.close();\n",
    "        }\n",
    "    }\n",
    "\n",
    "\n",
    "    public double stdev() {\n",
    "        double total = 0;  \n",
    "        double m = 0;\n",
    "        double s = 0;\n",
    "        double sum = 0;\n",
    "        for (double num : this.values) {    //Loops through and finds the sum of all of the values in the values array\n",
    "            total += num; \n",
    "        }\n",
    "        m = total / values.size();\n",
    "\n",
    "        for (double num : this.values){\n",
    "            sum += Math.pow((m - num), 2); //Sums up all of the values necessary in the standard deviation equation\n",
    "        }\n",
    "        s = Math.pow((sum / (this.values.size() - 1)), 0.5);    //Calculates the standard deviation\n",
    "        return (s);\n",
    "    }\n",
    "\n",
    "\n",
    "    public static void main(String[] args) {\n",
    "        STDevCalculator values = new STDevCalculator(); \n",
    "        System.out.println(\"Standard Deviation of dataset: \" + String.format(\"%.2f\", values.stdev()));\n",
    "    }   \n",
    "}\n",
    "STDevCalculator.main(null);"
   ]
  },
  {
   "cell_type": "markdown",
   "metadata": {},
   "source": [
    "Standard Deviation is the amount of variation in a dataset and is very vital in many situations regarding data analysis, making this program quite useful. "
   ]
  }
 ],
 "metadata": {
  "kernelspec": {
   "display_name": "Java",
   "language": "java",
   "name": "java"
  },
  "language_info": {
   "codemirror_mode": "java",
   "file_extension": ".jshell",
   "mimetype": "text/x-java-source",
   "name": "java",
   "pygments_lexer": "java",
   "version": "17.0.4.1+1-LTS-2"
  },
  "orig_nbformat": 4,
  "vscode": {
   "interpreter": {
    "hash": "aee8b7b246df8f9039afb4144a1f6fd8d2ca17a180786b69acc140d282b71a49"
   }
  }
 },
 "nbformat": 4,
 "nbformat_minor": 2
}
