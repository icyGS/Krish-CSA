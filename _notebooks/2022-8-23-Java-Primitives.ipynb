{
 "cells": [
  {
   "cell_type": "markdown",
   "metadata": {},
   "source": [
    "# Java Primitives Notebook \n",
    "\n",
    "- toc: true \n",
    "- badges: true\n",
    "- comments: true\n",
    "- categories: [jupyter]"
   ]
  },
  {
   "cell_type": "markdown",
   "metadata": {},
   "source": [
    "Define in a Class the following data types\n",
    "Demonstrate use of Primitives: int, double, boolean, string\n",
    "Demonstrate use of Wrapper Class object: String"
   ]
  },
  {
   "cell_type": "code",
   "execution_count": 5,
   "metadata": {},
   "outputs": [
    {
     "name": "stdout",
     "output_type": "stream",
     "text": [
      "50\n",
      "5.5\n",
      "true\n",
      "I love to code code code\n"
     ]
    }
   ],
   "source": [
    "public class Primitives{\n",
    "    int anInt = 50;\n",
    "    double aDouble = 5.5;\n",
    "    boolean aBoolean = true;\n",
    "    String aString = \"I love to code code code\";\n",
    "}\n",
    "\n",
    "System.out.println(anInt);\n",
    "System.out.println(aDouble);\n",
    "System.out.println(aBoolean);\n",
    "System.out.println(aString);"
   ]
  },
  {
   "cell_type": "markdown",
   "metadata": {},
   "source": [
    "### Standard Deviation Calculator"
   ]
  },
  {
   "cell_type": "markdown",
   "metadata": {},
   "source": [
    "This program asks for a list of numbers. When you are finished, input 0. It will then report the Mean and Standard Deviation of this set of numbers"
   ]
  },
  {
   "cell_type": "code",
   "execution_count": null,
   "metadata": {},
   "outputs": [],
   "source": [
    "public class STDEV{\n",
    "    \n",
    "}"
   ]
  }
 ],
 "metadata": {
  "kernelspec": {
   "display_name": "Java",
   "language": "java",
   "name": "java"
  },
  "language_info": {
   "codemirror_mode": "java",
   "file_extension": ".jshell",
   "mimetype": "text/x-java-source",
   "name": "java",
   "pygments_lexer": "java",
   "version": "17.0.4.1+1-LTS-2"
  },
  "orig_nbformat": 4,
  "vscode": {
   "interpreter": {
    "hash": "aee8b7b246df8f9039afb4144a1f6fd8d2ca17a180786b69acc140d282b71a49"
   }
  }
 },
 "nbformat": 4,
 "nbformat_minor": 2
}
