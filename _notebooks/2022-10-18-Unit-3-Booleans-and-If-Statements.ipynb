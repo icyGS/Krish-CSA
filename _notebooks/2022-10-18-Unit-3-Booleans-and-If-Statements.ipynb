{
 "cells": [
  {
   "cell_type": "markdown",
   "metadata": {},
   "source": [
    "# Unit 3 Boolean Expressions and If Statements\n",
    "\n",
    "- toc: true \n",
    "- badges: true\n",
    "- comments: true\n",
    "- categories: [college board]"
   ]
  },
  {
   "cell_type": "markdown",
   "metadata": {},
   "source": [
    "# Unit 3 \n",
    "- Very large amount of the AP exam\n",
    "- Switch cases are more efficient\n",
    "- Booleans for assignment and comparative logic\n",
    "\n",
    "## If Statements\n",
    "- Logic gates in the condition\n",
    "- Else if is another condition\n",
    "- Else is what happens when nothing else is true\n",
    "\n",
    "## Switch statement\n",
    "- More efficient because it is nested\n",
    "- Executed more quickly \n",
    "\n",
    "## Boolean Expressions\n",
    "- Compare 2 types of data \n",
    "- 1 is true; 0 is false\n",
    "- == is comparison\n",
    "- = is assignment\n",
    "- != is inequality\n",
    "- Can be used with other operators as well\n",
    "\n",
    "## Logic Gate Symbols\n",
    "- Multiple symbols\n",
    "\n",
    "## De Morgans Law\n",
    "- not(A and B) is equal to (not A or not B)\n",
    "\n",
    "## Truth Table\n",
    "- Shows inputs\n",
    "- Outputs of the condition"
   ]
  }
 ],
 "metadata": {
  "kernelspec": {
   "display_name": "Python 3.9.5 64-bit",
   "language": "python",
   "name": "python3"
  },
  "language_info": {
   "name": "python",
   "version": "3.9.5"
  },
  "orig_nbformat": 4,
  "vscode": {
   "interpreter": {
    "hash": "aee8b7b246df8f9039afb4144a1f6fd8d2ca17a180786b69acc140d282b71a49"
   }
  }
 },
 "nbformat": 4,
 "nbformat_minor": 2
}
