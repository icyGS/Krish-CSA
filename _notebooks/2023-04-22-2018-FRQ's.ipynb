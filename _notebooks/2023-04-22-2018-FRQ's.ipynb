{
 "cells": [
  {
   "attachments": {},
   "cell_type": "markdown",
   "metadata": {},
   "source": [
    "# College board FRQ's\n",
    "\n",
    "- toc: true \n",
    "- badges: true\n",
    "- comments: true\n",
    "- categories: [college board]"
   ]
  },
  {
   "attachments": {},
   "cell_type": "markdown",
   "metadata": {},
   "source": [
    "# Methods and Control Structure FRQ"
   ]
  },
  {
   "cell_type": "code",
   "execution_count": 11,
   "metadata": {
    "vscode": {
     "languageId": "java"
    }
   },
   "outputs": [
    {
     "name": "stdout",
     "output_type": "stream",
     "text": [
      "Number of digits in 1234: 4\n",
      "3rd Digit of 1234: 3\n",
      "Check Value of 28415: 6\n",
      "Checking if 1592 is valid: true\n",
      "Checking if 1593 is valid: false\n"
     ]
    }
   ],
   "source": [
    "public class GetCheck {\n",
    "    public static int getCheck(int num){\n",
    "        int sum = 0;\n",
    "        int len = getNumberOfDigits(num);\n",
    "        for (int i = 1; i <= len; i++){\n",
    "                sum += getDigit(num, i) * (8 - i);\n",
    "        }\n",
    "        return sum % 10;\n",
    "    }\n",
    "\n",
    "\n",
    "    public static int getNumberOfDigits(int num){\n",
    "        int count = 0;\n",
    "        while(num > 0){\n",
    "            num /= 10;\n",
    "            count++;\n",
    "        }\n",
    "        return count;\n",
    "    }\n",
    "\n",
    "    \n",
    "    public static int getDigit(int num, int n){\n",
    "        int digit = 0;\n",
    "        int len = getNumberOfDigits(num);\n",
    "        for (int i = 0; i < len - n + 1; i++){\n",
    "            digit = num % 10;\n",
    "            num /= 10;\n",
    "        }\n",
    "        return digit;\n",
    "    }\n",
    "\n",
    "    public static boolean isValid(int numWithCheckDigit){\n",
    "        return getCheck(numWithCheckDigit/10) == numWithCheckDigit % 10;\n",
    "    }\n",
    "    \n",
    "\n",
    "    public static void main(String[] args){\n",
    "        System.out.println(\"Number of digits in 1234: \" + GetCheck.getNumberOfDigits(1234));\n",
    "        System.out.println(\"3rd Digit of 1234: \" + GetCheck.getDigit(1234, 3));\n",
    "        System.out.println(\"Check Value of 28415: \" + GetCheck.getCheck(283415));\n",
    "        System.out.println(\"Checking if 1592 is valid: \" + GetCheck.isValid(1592));\n",
    "        System.out.println(\"Checking if 1593 is valid: \" + GetCheck.isValid(1593));\n",
    "    }\n",
    "}\n",
    "\n",
    "GetCheck.main(null);"
   ]
  },
  {
   "attachments": {},
   "cell_type": "markdown",
   "metadata": {},
   "source": [
    "# Classes frq"
   ]
  },
  {
   "cell_type": "code",
   "execution_count": 12,
   "metadata": {
    "vscode": {
     "languageId": "java"
    }
   },
   "outputs": [
    {
     "name": "stdout",
     "output_type": "stream",
     "text": [
      "2\n",
      "5\n",
      "2\n"
     ]
    }
   ],
   "source": [
    "public class AdditionalPattern { \n",
    "    private int start;\n",
    "    private int increment;\n",
    "\n",
    "    public AdditionalPattern(int start, int increment){\n",
    "        this.start = start;\n",
    "        this.increment = increment;\n",
    "    }\n",
    "\n",
    "    public int currentNumber() {\n",
    "        return start;\n",
    "    }\n",
    "\n",
    "    public void next() { \n",
    "        start += increment;\n",
    "    }\n",
    "\n",
    "    public void prev() { \n",
    "        start -= increment;\n",
    "    }\n",
    "\n",
    "    public static void main(String[] args){\n",
    "        AdditionalPattern plus3 = new AdditionalPattern(2, 3);\n",
    "\n",
    "        System.out.println(plus3.currentNumber());\n",
    "        plus3.next();\n",
    "        System.out.println(plus3.currentNumber());\n",
    "        plus3.prev();\n",
    "        System.out.println(plus3.currentNumber());\n",
    "    }\n",
    "}\n",
    "AdditionalPattern.main(null);"
   ]
  },
  {
   "attachments": {},
   "cell_type": "markdown",
   "metadata": {},
   "source": [
    "# Arrays & ArrayList FRQ"
   ]
  },
  {
   "cell_type": "code",
   "execution_count": 13,
   "metadata": {
    "vscode": {
     "languageId": "java"
    }
   },
   "outputs": [
    {
     "ename": "CompilationException",
     "evalue": "",
     "output_type": "error",
     "traceback": [
      "\u001b[1m\u001b[30m|   \u001b[1m\u001b[30m                if(\u001b[0m\u001b[1m\u001b[30m\u001b[41mremovedMember.inGoodStanding\u001b[0m\u001b[1m\u001b[30m){\u001b[0m",
      "\u001b[1m\u001b[31mcannot find symbol\u001b[0m",
      "\u001b[1m\u001b[31m  symbol:   variable inGoodStanding\u001b[0m",
      "",
      "\u001b[1m\u001b[30m|   \u001b[1m\u001b[30m        \u001b[0m\u001b[1m\u001b[30m\u001b[41mClubMembers.addMembers\u001b[0m\u001b[1m\u001b[30m(names, 2019);\u001b[0m",
      "\u001b[1m\u001b[31mnon-static method addMembers(java.lang.String[],int) cannot be referenced from a static context\u001b[0m",
      ""
     ]
    }
   ],
   "source": [
    "public class MemberInfo { \n",
    "    private String name;\n",
    "    private int gradYear;\n",
    "    private boolean hasGoodStanding;\n",
    "\n",
    "    public MemberInfo(String name, int gradYear, boolean hasGoodStanding){\n",
    "        this.name = name;\n",
    "        this.gradYear = gradYear;\n",
    "        this.hasGoodStanding = hasGoodStanding;\n",
    "    }\n",
    "\n",
    "    public int getGradYear() {\n",
    "        return gradYear;\n",
    "    }\n",
    "\n",
    "    public boolean inGoodStanding() {\n",
    "        return hasGoodStanding;\n",
    "    }\n",
    "}\n",
    "\n",
    "public class ClubMembers { \n",
    "    private ArrayList<MemberInfo> memberList;\n",
    "\n",
    "    public void addMembers(String[] names, int gradYear){\n",
    "        for(String name: names){\n",
    "            memberList.add(new MemberInfo(name, gradYear, true));\n",
    "        }\n",
    "    }\n",
    "\n",
    "    public ArrayList<MemberInfo> removeMembers(int year){\n",
    "        ArrayList<MemberInfo> goodStanding = new ArrayList<MemberInfo>();\n",
    "\n",
    "        int i = 0;\n",
    "        while(i < memberList.size()){\n",
    "            if(memberList.get(i).getGradYear() <= year){\n",
    "                MemberInfo removedMember = memberList.remove(i);\n",
    "                if(removedMember.inGoodStanding){\n",
    "                    goodStanding.add(removedMember);\n",
    "                }\n",
    "            }\n",
    "            else i++;\n",
    "        }\n",
    "        return goodStanding;\n",
    "    }\n",
    "\n",
    "    public static void main(String[] args){\n",
    "        String[] names = new String[]{\"John\", \"Jeff\", \"Joseph\"};\n",
    "        ClubMembers.addMembers(names, 2019);\n",
    "    }\n",
    "\n",
    "}\n",
    "ClubMembers.main(null);"
   ]
  },
  {
   "attachments": {},
   "cell_type": "markdown",
   "metadata": {},
   "source": [
    "# 2D Array FRQ"
   ]
  },
  {
   "cell_type": "code",
   "execution_count": 14,
   "metadata": {
    "vscode": {
     "languageId": "java"
    }
   },
   "outputs": [
    {
     "name": "stdout",
     "output_type": "stream",
     "text": [
      "Is row 0 non-zero? false\n",
      "Is row 1 non-zero? true\n",
      "Number of non-zero rows: 2\n"
     ]
    }
   ],
   "source": [
    "public class ArrayResizer {\n",
    "    public static boolean isNonZeroRow(int[][] array2D, int r){\n",
    "        for(int val: array2D[r]){\n",
    "            if(val == 0){\n",
    "                return false;\n",
    "            }\n",
    "        }\n",
    "        return true;\n",
    "    }\n",
    " \n",
    "    public static int numNonZeroRows(int[][] array2D) { \n",
    "        int count = 0;\n",
    "        // for(int[] row: array2D){\n",
    "        //     if(isNonZeroRow(row)){\n",
    "        //         count++;\n",
    "        //     }\n",
    "        // }\n",
    "\n",
    "        for(int r = 0; r < array2D.length; r++){\n",
    "            if(isNonZeroRow(array2D, r)){\n",
    "                count++;\n",
    "            }\n",
    "        }\n",
    "        return count;\n",
    "    }\n",
    "\n",
    "    public static void main(String[] args){\n",
    "        int[][] arr =  {{2, 1, 0},\n",
    "                    {1, 3, 2},\n",
    "                    {0, 0, 0},\n",
    "                    {4, 5, 6}};\n",
    "        \n",
    "        System.out.println(\"Is row 0 non-zero? \" + isNonZeroRow(arr, 0));\n",
    "        System.out.println(\"Is row 1 non-zero? \" + isNonZeroRow(arr, 1));\n",
    "        System.out.println(\"Number of non-zero rows: \" + numNonZeroRows(arr));\n",
    "    }\n",
    "}\n",
    "ArrayResizer.main(null);"
   ]
  }
 ],
 "metadata": {
  "kernelspec": {
   "display_name": "Java",
   "language": "java",
   "name": "java"
  },
  "language_info": {
   "codemirror_mode": "java",
   "file_extension": ".jshell",
   "mimetype": "text/x-java-source",
   "name": "Java",
   "pygments_lexer": "java",
   "version": "17.0.5+9-LTS-191"
  },
  "orig_nbformat": 4
 },
 "nbformat": 4,
 "nbformat_minor": 2
}
