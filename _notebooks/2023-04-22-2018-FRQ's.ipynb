{
 "cells": [
  {
   "attachments": {},
   "cell_type": "markdown",
   "metadata": {},
   "source": [
    "# College board FRQ's\n",
    "\n",
    "- toc: true \n",
    "- badges: true\n",
    "- comments: true\n",
    "- categories: [college board]"
   ]
  },
  {
   "attachments": {},
   "cell_type": "markdown",
   "metadata": {},
   "source": [
    "# Methods and Control Structure FRQ"
   ]
  },
  {
   "cell_type": "code",
   "execution_count": 44,
   "metadata": {
    "vscode": {
     "languageId": "java"
    }
   },
   "outputs": [
    {
     "name": "stdout",
     "output_type": "stream",
     "text": [
      "Number of digits in 1234: 4\n",
      "3rd Digit of 1234: 3\n",
      "Check Value of 28415: 6\n",
      "Checking if 1592 is valid: true\n",
      "Checking if 1593 is valid: false\n"
     ]
    }
   ],
   "source": [
    "public class GetCheck {\n",
    "    public static int getCheck(int num){\n",
    "        int sum = 0;\n",
    "        int len = getNumberOfDigits(num);\n",
    "        for (int i = 1; i <= len; i++){\n",
    "                sum += getDigit(num, i) * (8 - i);\n",
    "        }\n",
    "        return sum % 10;\n",
    "    }\n",
    "\n",
    "\n",
    "    public static int getNumberOfDigits(int num){\n",
    "        int count = 0;\n",
    "        while(num > 0){\n",
    "            num /= 10;\n",
    "            count++;\n",
    "        }\n",
    "        return count;\n",
    "    }\n",
    "\n",
    "    \n",
    "    public static int getDigit(int num, int n){\n",
    "        int digit = 0;\n",
    "        int len = getNumberOfDigits(num);\n",
    "        for (int i = 0; i < len - n + 1; i++){\n",
    "            digit = num % 10;\n",
    "            num /= 10;\n",
    "        }\n",
    "        return digit;\n",
    "    }\n",
    "\n",
    "    public static boolean isValid(int numWithCheckDigit){\n",
    "        return getCheck(numWithCheckDigit/10) == numWithCheckDigit % 10;\n",
    "    }\n",
    "    \n",
    "\n",
    "    public static void main(String[] args){\n",
    "        System.out.println(\"Number of digits in 1234: \" + GetCheck.getNumberOfDigits(1234));\n",
    "        System.out.println(\"3rd Digit of 1234: \" + GetCheck.getDigit(1234, 3));\n",
    "        System.out.println(\"Check Value of 28415: \" + GetCheck.getCheck(283415));\n",
    "        System.out.println(\"Checking if 1592 is valid: \" + GetCheck.isValid(1592));\n",
    "        System.out.println(\"Checking if 1593 is valid: \" + GetCheck.isValid(1593));\n",
    "    }\n",
    "}\n",
    "\n",
    "GetCheck.main(null);"
   ]
  }
 ],
 "metadata": {
  "kernelspec": {
   "display_name": "Java",
   "language": "java",
   "name": "java"
  },
  "language_info": {
   "codemirror_mode": "java",
   "file_extension": ".jshell",
   "mimetype": "text/x-java-source",
   "name": "Java",
   "pygments_lexer": "java",
   "version": "17.0.5+9-LTS-191"
  },
  "orig_nbformat": 4
 },
 "nbformat": 4,
 "nbformat_minor": 2
}
