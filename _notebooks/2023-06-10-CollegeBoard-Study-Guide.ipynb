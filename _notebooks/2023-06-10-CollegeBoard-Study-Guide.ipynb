{
 "cells": [
  {
   "cell_type": "markdown",
   "metadata": {},
   "source": [
    "# College Board Study Guide\n",
    "\n",
    "- toc: true \n",
    "- badges: true\n",
    "- comments: true\n",
    "- categories: [college board]"
   ]
  },
  {
   "attachments": {},
   "cell_type": "markdown",
   "metadata": {},
   "source": [
    "# Unit 1: Primitives \n",
    "\n",
    "This unit is a very important unit to all of Java. Without primitives, literally nothing could be calculated or produced, and the whole purpose of coding would be gone. While it may be the simplest of the Units, it one hundred percent is the most important. It is the backbone of this entire course, so we should make sure that our understanding of the language is as high as possible.\n",
    "\n",
    "You can find my blog post about it [here](https://icygs.github.io/Krish-CSA/college%20board/2022/10/12/Unit-1-Primitives.html)!\n",
    "\n",
    "# Unit 2: Using Objects\n",
    "\n",
    "A very important part of Java is known as Object Oriented Programming. In this unit, we further explored this concept. This allows Java to be a very powerful language for backend development especially, with many uses and whatnot. OOP allows Java to be very good at things like robotics as a programming language for robots. \n",
    "\n",
    "You can find my blog post about it [here](https://icygs.github.io/Krish-CSA/college%20board/2022/10/13/Unit-2-Using-Objects.html)!\n",
    "\n",
    "# Unit 3: Booleans and If statements\n",
    "\n",
    "Another powerful tool in Java that can be found in most code segments. If statements can be used for many purposes, from own functionality to error detection, they are great. Booleans are basically a true or false, no in between. This allows them to be useful for if statements (hence why we learn them together) \n",
    "\n",
    "You can find my blog post about it [here](https://icygs.github.io/Krish-CSA/college%20board/2022/10/18/Unit-3-Booleans-and-If-Statements.html)!\n",
    "\n",
    "# Unit 4: Iteration\n",
    "\n",
    "Iteration is very useful especially with loops. In this unit, iteration is covered along with loops. This can be used in arrays and other things that require iteration to work more efficiently. This condenses possible hundreds or thousands of lines of code into a mere few, as it is a code segment that repeats over and over again. Here, runtime and whatnot is also described as it is relevant to this topic. \n",
    "\n",
    "You can find my blog post about it [here](https://icygs.github.io/Krish-CSA/college%20board/2022/10/19/Unit-4-Iteration.html)\n",
    "\n",
    "# Unit 5: Classes\n",
    "\n",
    "Classes make up Java code. You can see them everywhere as everything is contained within a class. Without classes there would be no Java. Fortunately we were the people that made a presentation on Classes so we have a good amount of experience with it. In our presentation, all of the vocab was covered (you're welcome people) so it's really easy for everyone to find it in a centralized location. \n",
    "\n",
    "You can find my blog post about it [here](https://icygs.github.io/Krish-CSA/college%20board/2022/10/20/Unit-5-Classes.html)\n",
    "\n",
    "# Unit 6: Arrays\n",
    "\n",
    "Arrays can be used for so many uses of storing data, although there are better options to be honest as 2d arrays and array lists also exist so they are not super important. Learning the syntax was kinda hard though so this was helpful. \n",
    "\n",
    "You can find my blog post about it [here](https://icygs.github.io/Krish-CSA/final/2022/10/25/Unit-6-Arrays.html)\n",
    "\n",
    "# Unit 7 ArrayLists\n",
    "\n",
    "Array lists are super useful because of the fact that you can change the size of the arraylist, meaning that they are much more useful than Arrays (although sometimes arrays are more useful from time to time). They have different functions so more learning was helpful. \n",
    "\n",
    "You can find my blog post about it [here](https://icygs.github.io/Krish-CSA/college%20board/2022/11/30/Unit-7-Array-Lists.html)\n",
    "\n",
    "# Unit 8 2D Arrays\n",
    "\n",
    "2D arrays are really cool due to the fact that they have 2 dimensions and you can store data in each row and column, meaning that it is easier to make things like ASCII art and etc. Traversing is the main part of this in the AP exam so it is not that bad of a topic.\n",
    "\n",
    "You can find my blog post about it [here](https://icygs.github.io/Krish-CSA/college%20board/2022/12/06/Unit-8-2D-Arrays.html)\n",
    "\n",
    "# Unit 9 Inheritance\n",
    "\n",
    "Inheritance is where a class contains attributes from a parent class, meaning that it can use all of these and extend whatever it needs to ontop of that. Its like a kid and a parent. \n",
    "\n",
    "You can fine my blog post about it [here](https://icygs.github.io/Krish-CSA/college%20board/2022/12/12/Unit-9.html)\n",
    "\n",
    "# Unit 10 Recursion\n",
    "\n",
    "Recursion is where a method calls itself over and over again until a certain result is achieved. We can see this in factorials and also the fibonacci sequence.\n",
    "\n",
    "You can find my blog post about it [here](https://icygs.github.io/Krish-CSA/college%20board/2022/12/13/Unit-10.html)"
   ]
  }
 ],
 "metadata": {
  "kernelspec": {
   "display_name": "Java",
   "language": "java",
   "name": "java"
  },
  "language_info": {
   "name": "java",
   "version": "3.9.5"
  },
  "orig_nbformat": 4,
  "vscode": {
   "interpreter": {
    "hash": "aee8b7b246df8f9039afb4144a1f6fd8d2ca17a180786b69acc140d282b71a49"
   }
  }
 },
 "nbformat": 4,
 "nbformat_minor": 2
}
