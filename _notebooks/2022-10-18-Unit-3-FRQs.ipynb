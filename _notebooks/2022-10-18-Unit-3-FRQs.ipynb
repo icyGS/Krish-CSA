{
 "cells": [
  {
   "cell_type": "markdown",
   "metadata": {},
   "source": [
    "# Unit 3 and Unit 4 HW\n",
    "\n",
    "- toc: true \n",
    "- badges: true\n",
    "- comments: true\n",
    "- categories: [college board]"
   ]
  },
  {
   "cell_type": "markdown",
   "metadata": {},
   "source": [
    "# Unit 3\n",
    "## 2009 3b"
   ]
  },
  {
   "cell_type": "code",
   "execution_count": null,
   "metadata": {},
   "outputs": [],
   "source": [
    "public int getChargeStartTime(int chargeTime){\n",
    "    int startTime = 0;\n",
    "    for (int i = 1; i < 24; i++){\n",
    "        if (this.getChargingCost(i, chargeTime) < this.getChargingCost(startTime, chargeTime)){\n",
    "            startTime = i;\n",
    "        }\n",
    "    }\n",
    "    return startTime; \n",
    "}"
   ]
  },
  {
   "cell_type": "markdown",
   "metadata": {},
   "source": [
    "## 2017 1b"
   ]
  },
  {
   "cell_type": "code",
   "execution_count": null,
   "metadata": {},
   "outputs": [],
   "source": [
    "/** Returns true if the digits in this Digits object are in strictly increasing order;\n",
    " * false otherwise.\n",
    " */ \n",
    "\n",
    "public boolean isStrictlyIncreasing(){\n",
    "    for(int i = 1; i < digitList.size(); i++){\n",
    "        if (digitList.get(i-1).compareTo(digitList.get(i)) >= 0){\n",
    "            return false;\n",
    "        }\n",
    "        else{\n",
    "            return true;\n",
    "        }\n",
    "    }\n",
    "}"
   ]
  },
  {
   "cell_type": "markdown",
   "metadata": {},
   "source": [
    "## 2019 3b"
   ]
  },
  {
   "cell_type": "code",
   "execution_count": null,
   "metadata": {},
   "outputs": [],
   "source": [
    "public boolean isBalanced(ArrayList<String> delimiters) {\n",
    "    int numOpen = 0\n",
    "    int numClosed = 0;\n",
    "\n",
    "    for(String d:delimiters){\n",
    "        if(d.equals(openDel)){\n",
    "            numOpen++;\n",
    "        }\n",
    "        if(d.equals(closeDel)){\n",
    "            numClosed++;\n",
    "        }\n",
    "    }\n",
    "\n",
    "    if(numOpen == numClosed){\n",
    "        return true;\n",
    "    }\n",
    "    else{\n",
    "        return false;\n",
    "    }\n",
    "}"
   ]
  },
  {
   "cell_type": "markdown",
   "metadata": {},
   "source": [
    "# Unit 4 \n",
    "## Part 1"
   ]
  },
  {
   "cell_type": "code",
   "execution_count": null,
   "metadata": {},
   "outputs": [],
   "source": [
    "import java.util.Scanner;\n",
    " \n",
    "public class GFG {\n",
    "    public static void\n",
    "    guessingNumberGame()\n",
    "    {\n",
    "        // Scanner Class\n",
    "        Scanner sc = new Scanner(System.in);\n",
    " \n",
    "        // Generate the numbers\n",
    "        int number = 1 + (int)(100 * Math.random());\n",
    "        int K = 5;\n",
    " \n",
    "        int i, guess;\n",
    " \n",
    "        System.out.println(\n",
    "            \"A number is chosen\"\n",
    "            + \" between 1 to 100.\"\n",
    "            + \"Guess the number\"\n",
    "            + \" within 5 trials.\");\n",
    " \n",
    "        // Iterate over K Trials\n",
    "        for (i = 0; i < K; i++) {\n",
    "            System.out.println(\"Guess the number:\");\n",
    "            guess = sc.nextInt();\n",
    "            if (number == guess) {\n",
    "                System.out.println(\"Congratulations!\"+ \" You guessed the number.\");\n",
    "                break;\n",
    "            }\n",
    "            else if (number > guess && i != K - 1) {\n",
    "                System.out.println(\"The number is \" + \"greater than \" + guess);\n",
    "            }\n",
    "            else if (number < guess && i != K - 1) {\n",
    "                System.out.println(\"The number is\" + \" less than \" + guess);\n",
    "            }\n",
    "        }\n",
    " \n",
    "        if (i == K) {\n",
    "            System.out.println(\"You have exhausted \" + K + \" trials.\");\n",
    " \n",
    "            System.out.println(\"The number was \" + number);\n",
    "        }\n",
    "    }\n",
    "\n",
    "    public static void main(String arg[])\n",
    "    {\n",
    " \n",
    "        // Function Call\n",
    "        guessingNumberGame();\n",
    "    }\n",
    "}\n",
    "GFG.main(null);\n"
   ]
  },
  {
   "cell_type": "markdown",
   "metadata": {},
   "source": [
    "## Part 2\n",
    "[Form Completion Screenshot](https://icygs.github.io/Krish-CSA/images/Unit4.png)"
   ]
  }
 ],
 "metadata": {
  "kernelspec": {
   "display_name": "Java",
   "language": "java",
   "name": "java"
  },
  "language_info": {
   "name": "java",
   "version": "3.9.5"
  },
  "orig_nbformat": 4,
  "vscode": {
   "interpreter": {
    "hash": "aee8b7b246df8f9039afb4144a1f6fd8d2ca17a180786b69acc140d282b71a49"
   }
  }
 },
 "nbformat": 4,
 "nbformat_minor": 2
}
