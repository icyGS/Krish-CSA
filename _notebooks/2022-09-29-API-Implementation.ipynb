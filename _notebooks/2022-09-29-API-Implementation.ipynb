{
 "cells": [
  {
   "cell_type": "markdown",
   "metadata": {},
   "source": [
    "# API Implementation\n",
    "\n",
    "- toc: true \n",
    "- badges: true\n",
    "- comments: true\n",
    "- categories: [pbl]"
   ]
  },
  {
   "cell_type": "markdown",
   "metadata": {},
   "source": [
    "# Explanation of API's\n",
    "\n",
    "API's are basically a way to store a large amount of data and then be able to get that data without having to copy paste it directly from another source. Basically, you can call API's in java and then have that data be transferred so that you can do things with it. JSON is used to transmit data. "
   ]
  },
  {
   "cell_type": "code",
   "execution_count": 1,
   "metadata": {},
   "outputs": [
    {
     "name": "stdout",
     "output_type": "stream",
     "text": [
      "{\"data\":{\"detections\":[[{\"isReliable\":false,\"confidence\":1,\"language\":\"en\"}]]}}\n"
     ]
    }
   ],
   "source": [
    "import java.net.URI;\n",
    "import java.net.http.HttpClient;\n",
    "import java.net.http.HttpRequest;\n",
    "import java.net.http.HttpResponse;\n",
    "\n",
    "//RapidAPI header  https://rapidapi.com/spamakashrajtech/api/corona-virus-world-and-india-data\n",
    "HttpRequest request = HttpRequest.newBuilder()\n",
    "\t\t.uri(URI.create(\"https://google-translate1.p.rapidapi.com/language/translate/v2/detect\"))\n",
    "\t\t.header(\"content-type\", \"application/x-www-form-urlencoded\")\n",
    "\t\t.header(\"Accept-Encoding\", \"application/gzip\")\n",
    "\t\t.header(\"X-RapidAPI-Key\", \"1549fa8a93msh73da228ed60b0a1p1beb30jsn1480b3d082a4\")\n",
    "\t\t.header(\"X-RapidAPI-Host\", \"google-translate1.p.rapidapi.com\")\n",
    "\t\t.method(\"POST\", HttpRequest.BodyPublishers.ofString(\"q=English%20is%20hard%2C%20but%20detectably%20so\"))\n",
    "\t\t.build();\n",
    "HttpResponse<String> response = HttpClient.newHttpClient().send(request, HttpResponse.BodyHandlers.ofString());\n",
    "System.out.println(response.body());"
   ]
  },
  {
   "cell_type": "code",
   "execution_count": null,
   "metadata": {},
   "outputs": [],
   "source": []
  }
 ],
 "metadata": {
  "kernelspec": {
   "display_name": "Java",
   "language": "java",
   "name": "java"
  },
  "language_info": {
   "codemirror_mode": "java",
   "file_extension": ".jshell",
   "mimetype": "text/x-java-source",
   "name": "java",
   "pygments_lexer": "java",
   "version": "17.0.4.1+1-LTS-2"
  },
  "orig_nbformat": 4,
  "vscode": {
   "interpreter": {
    "hash": "aee8b7b246df8f9039afb4144a1f6fd8d2ca17a180786b69acc140d282b71a49"
   }
  }
 },
 "nbformat": 4,
 "nbformat_minor": 2
}
