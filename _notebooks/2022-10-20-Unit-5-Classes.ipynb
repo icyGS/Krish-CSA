{
 "cells": [
  {
   "cell_type": "markdown",
   "metadata": {},
   "source": [
    "# Unit 5 Classes\n",
    "\n",
    "- toc: true \n",
    "- badges: true\n",
    "- comments: true\n",
    "- categories: [college board]"
   ]
  },
  {
   "cell_type": "markdown",
   "metadata": {},
   "source": [
    "Link to presentation to follow along:\n",
    "[Link](https://docs.google.com/presentation/d/1RLqronphXL3W78Q-K4vlzElqqUESwUNnjYGCBESK3rs/edit?usp=sharing)\n",
    "\n",
    "Link to Jupyter Notebook:\n",
    "[Link](https://dontran15.github.io/CSAFastPages/college%20board/week%209/2022/10/18/java-test.html)\n"
   ]
  }
 ],
 "metadata": {
  "kernelspec": {
   "display_name": "Python 3.9.5 64-bit",
   "language": "python",
   "name": "python3"
  },
  "language_info": {
   "name": "python",
   "version": "3.9.5"
  },
  "orig_nbformat": 4,
  "vscode": {
   "interpreter": {
    "hash": "aee8b7b246df8f9039afb4144a1f6fd8d2ca17a180786b69acc140d282b71a49"
   }
  }
 },
 "nbformat": 4,
 "nbformat_minor": 2
}
