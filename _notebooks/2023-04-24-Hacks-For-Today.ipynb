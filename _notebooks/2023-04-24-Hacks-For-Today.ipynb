{
 "cells": [
  {
   "attachments": {},
   "cell_type": "markdown",
   "metadata": {},
   "source": [
    "# Codelingo Hacks\n",
    "\n",
    "- toc: true \n",
    "- badges: true\n",
    "- comments: true\n",
    "- categories: [college board]"
   ]
  },
  {
   "attachments": {},
   "cell_type": "markdown",
   "metadata": {},
   "source": [
    "# Hack 1 "
   ]
  },
  {
   "cell_type": "code",
   "execution_count": 22,
   "metadata": {},
   "outputs": [
    {
     "name": "stdout",
     "output_type": "stream",
     "text": [
      "**********\n",
      "*********\n",
      "********\n",
      "*******\n",
      "******\n",
      "*****\n",
      "****\n",
      "***\n",
      "**\n",
      "*\n"
     ]
    }
   ],
   "source": [
    "public void drawLine(int n) {\n",
    "    for (int i = 1; i <= n; i++) {\n",
    "        System.out.print(\"*\");\n",
    "    }\n",
    "    if (n > 0){\n",
    "        System.out.println();\n",
    "        drawLine(n - 1);\n",
    "    }\n",
    "}\n",
    "drawLine(10);"
   ]
  },
  {
   "attachments": {},
   "cell_type": "markdown",
   "metadata": {},
   "source": [
    "# Hack 2"
   ]
  },
  {
   "cell_type": "code",
   "execution_count": 1,
   "metadata": {},
   "outputs": [],
   "source": [
    "public class Country {\n",
    "    private String name;\n",
    "    private int size;\n",
    "\n",
    "    public Country(String name, int size){\n",
    "        this.name = name;\n",
    "        this.size = size;\n",
    "    }\n",
    "\n",
    "    public String getName(){\n",
    "        return name;\n",
    "    }\n",
    "\n",
    "    public int getSize(){\n",
    "        return size;\n",
    "    }\n",
    "\n",
    "    public String toString(){\n",
    "        return name + \" \" + size;\n",
    "    }\n",
    "}"
   ]
  },
  {
   "cell_type": "code",
   "execution_count": 2,
   "metadata": {},
   "outputs": [
    {
     "name": "stdout",
     "output_type": "stream",
     "text": [
      "[America 50, India 100, China 200]\n"
     ]
    }
   ],
   "source": [
    "public class Sort {\n",
    "    public static ArrayList<Country> countryList = new ArrayList<Country>();\n",
    "\n",
    "    public Sort(ArrayList<Country> countryList) {\n",
    "        this.countryList = countryList;\n",
    "    \n",
    "    }\n",
    "\n",
    "    public static ArrayList<Country> SortCountries() {\n",
    "        int min_idx = 0;\n",
    "        for(int i = 0; i < countryList.size(); i++){\n",
    "            min_idx = i;\n",
    "            for (int j = i+1; j < countryList.size(); j++) {\n",
    "                if (countryList.get(j).getSize() < countryList.get(min_idx).getSize())\n",
    "                    min_idx = j;\n",
    "            }\n",
    "            Country temp = countryList.get(min_idx);\n",
    "            countryList.set(min_idx, countryList.get(i));\n",
    "            countryList.set(i, temp);\n",
    "        }\n",
    "\n",
    "        return countryList;\n",
    "    }\n",
    "\n",
    "    public static void main(String[] args){\n",
    "        countryList.add(new Country(\"India\", 100));\n",
    "        countryList.add(new Country(\"China\", 200));\n",
    "        countryList.add(new Country(\"America\", 50));\n",
    "        System.out.println(SortCountries());\n",
    "    }\n",
    "}\n",
    "\n",
    "Sort.main(null);"
   ]
  },
  {
   "attachments": {},
   "cell_type": "markdown",
   "metadata": {},
   "source": [
    "# Hack 3\n",
    "- Test if two arraylists contain the same elements in reverse order"
   ]
  },
  {
   "cell_type": "code",
   "execution_count": 15,
   "metadata": {},
   "outputs": [
    {
     "name": "stdout",
     "output_type": "stream",
     "text": [
      "[3, 2, 5]\n",
      "[5, 2, 3]\n",
      "Reversed? true\n"
     ]
    }
   ],
   "source": [
    "public class Compare {\n",
    "    public boolean compareArrayLists(ArrayList<Integer> list1, ArrayList<Integer> list2){\n",
    "        if (list1.size() != list2.size()) {\n",
    "            return false;\n",
    "        }\n",
    "        for (int i = 0; i < list1.size(); i++) {\n",
    "            if (list1.get(i) != list2.get(list2.size()- i - 1)){\n",
    "                return false;\n",
    "            }\n",
    "        }\n",
    "        return true;\n",
    "    }\n",
    "\n",
    "    public static void main(String[] args){\n",
    "        Compare compare = new Compare();\n",
    "\n",
    "        ArrayList<Integer> list1 = new ArrayList<Integer>();\n",
    "        list1.add(3);\n",
    "        list1.add(2);\n",
    "        list1.add(5);\n",
    "\n",
    "        ArrayList<Integer> list2 = new ArrayList<Integer>();\n",
    "        list2.add(5);\n",
    "        list2.add(2);\n",
    "        list2.add(3);\n",
    "\n",
    "        System.out.println(list1);\n",
    "        System.out.println(list2);\n",
    "\n",
    "        System.out.println(\"Reversed? \" + compare.compareArrayLists(list1, list2));\n",
    "    }\n",
    "}\n",
    "Compare.main(null);"
   ]
  },
  {
   "attachments": {},
   "cell_type": "markdown",
   "metadata": {},
   "source": [
    "- Overwrite all the elements in an arraylist with the alphabet"
   ]
  },
  {
   "cell_type": "code",
   "execution_count": 35,
   "metadata": {},
   "outputs": [
    {
     "name": "stdout",
     "output_type": "stream",
     "text": [
      "[3, 2, 5, 7, 9, 1]\n",
      "[3, 5, 9]\n"
     ]
    }
   ],
   "source": [
    "public class Change {\n",
    "    public void removeHalf (ArrayList<Integer> list) {\n",
    "        // ArrayList<Integer> result = new ArrayList<Integer>();\n",
    "        // int size = list.size();\n",
    "        for (int i = 1; i < list.size(); i++){\n",
    "            list.remove(i);\n",
    "        }\n",
    "    }\n",
    "\n",
    "    public static void main(String[] args){\n",
    "        Change change = new Change();\n",
    "\n",
    "        ArrayList<Integer> list = new ArrayList<Integer>();\n",
    "        list.add(3);\n",
    "        list.add(2);\n",
    "        list.add(5);\n",
    "        list.add(7);\n",
    "        list.add(9);\n",
    "        list.add(1);\n",
    "\n",
    "        System.out.println(list);\n",
    "        change.removeHalf(list);\n",
    "        System.out.println(list);\n",
    "    }\n",
    "}\n",
    "Change.main(null);"
   ]
  }
 ],
 "metadata": {
  "kernelspec": {
   "display_name": "Java",
   "language": "java",
   "name": "java"
  },
  "language_info": {
   "codemirror_mode": "java",
   "file_extension": ".jshell",
   "mimetype": "text/x-java-source",
   "name": "java",
   "pygments_lexer": "java",
   "version": "17.0.5+9-LTS-191"
  },
  "orig_nbformat": 4
 },
 "nbformat": 4,
 "nbformat_minor": 2
}
