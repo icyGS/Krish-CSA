{
 "cells": [
  {
   "cell_type": "markdown",
   "metadata": {},
   "source": [
    "# Code.org Objects Hacks\n",
    "\n",
    "- toc: true \n",
    "- badges: true\n",
    "- comments: true\n",
    "- categories: [college board]\n",
    "\n"
   ]
  },
  {
   "cell_type": "markdown",
   "metadata": {},
   "source": [
    "In java, there are things known as objects. These objects can be defined with the use of classes. "
   ]
  },
  {
   "cell_type": "code",
   "execution_count": 3,
   "metadata": {},
   "outputs": [],
   "source": [
    "public class Krish{\n",
    "    \n",
    "}"
   ]
  },
  {
   "cell_type": "markdown",
   "metadata": {},
   "source": [
    "Here we have created the class \"Krish\". We can give this object characteristics, as shown below. "
   ]
  },
  {
   "cell_type": "code",
   "execution_count": 5,
   "metadata": {},
   "outputs": [
    {
     "name": "stdout",
     "output_type": "stream",
     "text": [
      "Krish is 68 inches tall.\n",
      "He is also 15 years old.\n",
      "Ishna is Krish's sister.\n",
      "She is 7 years old.\n"
     ]
    }
   ],
   "source": [
    "public class Krish {\n",
    "    String height;\n",
    "    int age;\n",
    "\n",
    "    public Krish(){\n",
    "        this.height = \"68 inches\";\n",
    "        this.age = 15;\n",
    "    }\n",
    "\n",
    "    public void printInformation(){\n",
    "        System.out.println(\"Krish is \" + height + \" tall.\");\n",
    "        System.out.println(\"He is also \" + age + \" years old.\");\n",
    "    }\n",
    "\n",
    " }\n",
    "\n",
    " public class Sister extends Krish{\n",
    "    String name;\n",
    "    int age;\n",
    "\n",
    "    public Sister(){\n",
    "        this.name = \"Ishna\";\n",
    "        this.age = 7;\n",
    "    }\n",
    "\n",
    "    public void printInformation(){\n",
    "        System.out.println(name + \" is Krish's sister.\");\n",
    "        System.out.println(\"She is \" + age + \" years old.\");\n",
    "    }\n",
    " }\n",
    "\n",
    " public class Main{\n",
    "    public static void main(String []args) {\n",
    "        Krish krish = new Krish();\n",
    "        Sister sister = new Sister();\n",
    "\n",
    "        krish.printInformation();\n",
    "        sister.printInformation();\n",
    "\n",
    "     }\n",
    " }\n",
    " \n",
    " Main.main(null);"
   ]
  },
  {
   "cell_type": "markdown",
   "metadata": {},
   "source": [
    "Here we have given the object Krish some characteristics. We can use this object by doing .height or .age and getting the height and age of the object. "
   ]
  },
  {
   "cell_type": "markdown",
   "metadata": {},
   "source": [
    "Here we can also see that the sister class is extending the Krish class, as Krish's sister extends himself. This is basically a extension of Krish and all of the variables from Krish. "
   ]
  }
 ],
 "metadata": {
  "kernelspec": {
   "display_name": "Java",
   "language": "java",
   "name": "java"
  },
  "language_info": {
   "codemirror_mode": "java",
   "file_extension": ".jshell",
   "mimetype": "text/x-java-source",
   "name": "java",
   "pygments_lexer": "java",
   "version": "17.0.4.1+1-LTS-2"
  },
  "orig_nbformat": 4,
  "vscode": {
   "interpreter": {
    "hash": "aee8b7b246df8f9039afb4144a1f6fd8d2ca17a180786b69acc140d282b71a49"
   }
  }
 },
 "nbformat": 4,
 "nbformat_minor": 2
}
