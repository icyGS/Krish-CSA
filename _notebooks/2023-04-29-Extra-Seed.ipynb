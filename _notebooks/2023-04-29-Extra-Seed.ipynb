{
 "cells": [
  {
   "attachments": {},
   "cell_type": "markdown",
   "metadata": {},
   "source": [
    "# Quiz... But Ice Cream Store\n",
    "\n",
    "- toc: true \n",
    "- badges: true\n",
    "- comments: true\n",
    "- categories: [college board]"
   ]
  },
  {
   "cell_type": "markdown",
   "metadata": {},
   "source": [
    "# Ice Cream Store"
   ]
  },
  {
   "cell_type": "code",
   "execution_count": 1,
   "metadata": {
    "vscode": {
     "languageId": "java"
    }
   },
   "outputs": [
    {
     "name": "stdout",
     "output_type": "stream",
     "text": [
      "Number of Ice Creams: 0\n",
      "Non-melted Ice Creams: \n",
      "0. Vanilla  Life: 1.0 minutes\n",
      "1. Chocolate  Life: 1.0 minutes\n",
      "Number of Ice Creams: 2\n"
     ]
    }
   ],
   "source": [
    "public class IceCream {\n",
    "    private static ArrayList<IceCream> iceCreams = new ArrayList<IceCream>();\n",
    "    private String flavor;\n",
    "    private int id;\n",
    "    public static final long MINUTE = 1000;  // minute\n",
    "\n",
    "    protected long created;\n",
    "    protected long life; \n",
    "\n",
    "    public void startTime(){\n",
    "        created = System.currentTimeMillis(); //sets startTime to current time\n",
    "    }\n",
    "    \n",
    "    // constructor for ice cream objects\n",
    "    public IceCream(String flavor) {\n",
    "        this.flavor = flavor; //sets flavor to the flavor passed in\n",
    "        this.id = IceCream.getIceCreamCount(); //sets id to the current num of ice creams\n",
    "\n",
    "        iceCreams.add(this); // adds ice cream to the list of ice creams\n",
    "\n",
    "        startTime();  // set time when ice cream is taken out\n",
    "        life = created; // set offset for ice creams life\n",
    "        this.setIceCreamLife(1);  // provide a default for ice creams life\n",
    "    }\n",
    "\n",
    "    // gets the number of ice creams\n",
    "    public static int getIceCreamCount() {\n",
    "        return iceCreams.size();\n",
    "    }\n",
    "\n",
    "    // id getter\n",
    "    public int getId() {\n",
    "        return id;\n",
    "    }\n",
    "\n",
    "    public static ArrayList<IceCream> getIceCreams() {\n",
    "        return iceCreams;\n",
    "    }\n",
    "\n",
    "    // toString method for ice cream objects\n",
    "    public String toString(){\n",
    "        return id + \". \" + flavor + \"  Life: \" + getIceCreamLife() + \" minutes\";\n",
    "    }\n",
    "\n",
    "    // Sets the life of the ice cream\n",
    "    public void setIceCreamLife(int minutes) {\n",
    "        life += minutes * IceCream.MINUTE;  // add minutes to life\n",
    "    }\n",
    "\n",
    "    // increments the life of the ice cream\n",
    "    public void removeIceCreamLife(){\n",
    "        life -= IceCream.MINUTE;\n",
    "    }\n",
    "\n",
    "    // gets the amount of time remaining for the ice cream to melt\n",
    "    public double getIceCreamLife() { \n",
    "        return (life - created) / IceCream.MINUTE;\n",
    "    }\n",
    "\n",
    "    // Checks if the ice cream has not melted yet\n",
    "    public boolean hasIceCreamLife() { \n",
    "        return life > created;\n",
    "    }\n",
    "\n",
    "    // prints non melted ice creams\n",
    "    public static void printIceCreams() {\n",
    "        System.out.println(\"Non-melted Ice Creams: \");   \n",
    "        for (IceCream iceCream: IceCream.iceCreams) {\n",
    "            if (iceCream.hasIceCreamLife())  // Non melted ice cream check\n",
    "                System.out.println(iceCream);\n",
    "        }\n",
    "    }\n",
    "\n",
    "\n",
    "\n",
    "    public static void main(String[] args){\n",
    "        System.out.println(\"Number of Ice Creams: \" + IceCream.getIceCreamCount());\n",
    "        \n",
    "        IceCream[] iceCreams = {\n",
    "            new IceCream(\"Vanilla\"),\n",
    "            new IceCream(\"Chocolate\")\n",
    "        };\n",
    "    /* \n",
    "        for(IceCream iceCream: iceCreams){\n",
    "            System.out.println(iceCream);\n",
    "        }\n",
    "    */\n",
    "        IceCream.printIceCreams();\n",
    "        System.out.println(\"Number of Ice Creams: \" + IceCream.getIceCreamCount());\n",
    "\n",
    "    }\n",
    "\n",
    "}\n",
    "IceCream.main(null);"
   ]
  },
  {
   "cell_type": "code",
   "execution_count": 2,
   "metadata": {
    "vscode": {
     "languageId": "java"
    }
   },
   "outputs": [
    {
     "name": "stdout",
     "output_type": "stream",
     "text": [
      "Number of Ice Creams: 2\n",
      "2. Vanilla Gelato  Life: 6.0 minutes, 100\n",
      "3. Chocolate Gelato  Life: 6.0 minutes, 200\n",
      "4. Strawberry Gelato  Life: 6.0 minutes, 450\n",
      "Number of Ice Creams: 5\n"
     ]
    }
   ],
   "source": [
    "public class Gelato extends IceCream {\n",
    "    private int scoops = 0;\n",
    "    private int calories;\n",
    "\n",
    "    public Gelato(String flavor, int calories) {\n",
    "        super(flavor);  // calls the constructor of the ice cream class\n",
    "        this.calories = calories;  \n",
    "        super.setIceCreamLife(5);  // adds 5 minute to default ice cream life\n",
    "    }\n",
    "\n",
    "    @Override\n",
    "    public void removeIceCreamLife(){\n",
    "        life -= 0.5 * IceCream.MINUTE;\n",
    "    }\n",
    "\n",
    "    @Override\n",
    "    public String toString() {      \n",
    "        return(super.toString() + \", \" + this.calories);\n",
    "    }\n",
    "\n",
    "    public static void main(String[] args){\n",
    "        System.out.println(\"Number of Ice Creams: \" + IceCream.getIceCreamCount());\n",
    "        \n",
    "        Gelato[] gelatos = {\n",
    "            new Gelato(\"Vanilla Gelato\", 100),\n",
    "            new Gelato(\"Chocolate Gelato\", 200),\n",
    "            new Gelato(\"Strawberry Gelato\", 450)\n",
    "        };\n",
    "\n",
    "        for(Gelato gelato: gelatos){\n",
    "            System.out.println(gelato);\n",
    "        }\n",
    "\n",
    "        System.out.println(\"Number of Ice Creams: \" + IceCream.getIceCreamCount());\n",
    "    }\n",
    "}\n",
    "Gelato.main(null);"
   ]
  },
  {
   "cell_type": "code",
   "execution_count": 3,
   "metadata": {
    "vscode": {
     "languageId": "java"
    }
   },
   "outputs": [],
   "source": [
    "class CheckOut extends TimerTask {\n",
    "    public void run() {\n",
    "       System.out.println(\"Hello World!\"); \n",
    "    }\n",
    "}"
   ]
  },
  {
   "cell_type": "code",
   "execution_count": 4,
   "metadata": {
    "vscode": {
     "languageId": "java"
    }
   },
   "outputs": [
    {
     "name": "stdout",
     "output_type": "stream",
     "text": [
      "Minute: 0\n",
      "Non-melted Ice Creams: \n",
      "0. Vanilla  Life: 1.0 minutes\n",
      "1. Chocolate  Life: 1.0 minutes\n",
      "2. Vanilla Gelato  Life: 6.0 minutes, 100\n",
      "3. Chocolate Gelato  Life: 6.0 minutes, 200\n",
      "4. Strawberry Gelato  Life: 6.0 minutes, 450\n",
      "\n",
      "Minute: 1\n",
      "Non-melted Ice Creams: \n",
      "2. Vanilla Gelato  Life: 5.0 minutes, 100\n",
      "3. Chocolate Gelato  Life: 5.0 minutes, 200\n",
      "4. Strawberry Gelato  Life: 5.0 minutes, 450\n",
      "\n",
      "Minute: 2\n",
      "Non-melted Ice Creams: \n",
      "2. Vanilla Gelato  Life: 5.0 minutes, 100\n",
      "3. Chocolate Gelato  Life: 5.0 minutes, 200\n",
      "4. Strawberry Gelato  Life: 5.0 minutes, 450\n",
      "\n",
      "Minute: 3\n",
      "Non-melted Ice Creams: \n",
      "2. Vanilla Gelato  Life: 4.0 minutes, 100\n",
      "3. Chocolate Gelato  Life: 4.0 minutes, 200\n",
      "4. Strawberry Gelato  Life: 4.0 minutes, 450\n",
      "\n",
      "Minute: 4\n",
      "Non-melted Ice Creams: \n",
      "2. Vanilla Gelato  Life: 4.0 minutes, 100\n",
      "3. Chocolate Gelato  Life: 4.0 minutes, 200\n",
      "4. Strawberry Gelato  Life: 4.0 minutes, 450\n",
      "\n"
     ]
    }
   ],
   "source": [
    "// Library Simulation\n",
    "public class IceCreamSim {\n",
    "\n",
    "    public static void main(String[] args) throws InterruptedException {  \n",
    "        int minutes = 5; // Simulation minutes\n",
    "        // Sleep in loop creates delay for simulation\n",
    "        for (int i = 0; i < minutes; i++) {\n",
    "            System.out.println(\"Minute: \" + i);\n",
    "            IceCream.printIceCreams();\n",
    "            System.out.println();\n",
    "            Thread.sleep(IceCream.MINUTE);  // Part 3.4, Use a sleep in Java to assist with simulation\n",
    "            // Loop through books in Library\n",
    "            for (IceCream iceCream : IceCream.getIceCreams()) {\n",
    "                iceCream.removeIceCreamLife();  // apply aging formula\n",
    "            }\n",
    "\n",
    "        }\n",
    "        \n",
    "    }\n",
    "}\n",
    "IceCreamSim.main(null);"
   ]
  }
 ],
 "metadata": {
  "kernelspec": {
   "display_name": "Java",
   "language": "java",
   "name": "java"
  },
  "language_info": {
   "codemirror_mode": "java",
   "file_extension": ".jshell",
   "mimetype": "text/x-java-source",
   "name": "Java",
   "pygments_lexer": "java",
   "version": "17.0.5+9-LTS-191"
  },
  "orig_nbformat": 4
 },
 "nbformat": 4,
 "nbformat_minor": 2
}
