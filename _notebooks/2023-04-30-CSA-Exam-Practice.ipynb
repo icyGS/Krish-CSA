{
 "cells": [
  {
   "attachments": {},
   "cell_type": "markdown",
   "metadata": {},
   "source": [
    "# CSA Exam Practice\n",
    "\n",
    "- toc: true \n",
    "- badges: true\n",
    "- comments: true\n",
    "- categories: [college board]"
   ]
  },
  {
   "cell_type": "code",
   "execution_count": null,
   "metadata": {},
   "outputs": [],
   "source": [
    "public DownloadInfo getDownloadInfo(String title) {\n",
    "    for(DownloadInfo d: downloadList){\n",
    "        if(d.getTitle().equals(title)){\n",
    "            return d;\n",
    "        }\n",
    "    }\n",
    "    return null;\n",
    "}"
   ]
  },
  {
   "cell_type": "code",
   "execution_count": null,
   "metadata": {},
   "outputs": [],
   "source": [
    "public void updateDownloads(List<String> titles){\n",
    "    for(String title: titles){\n",
    "        if()\n",
    "    }\n",
    "}"
   ]
  },
  {
   "cell_type": "code",
   "execution_count": null,
   "metadata": {},
   "outputs": [],
   "source": [
    "public TokenPass(int playerCount){\n",
    "    board = new int[playerCount];\n",
    "    \n",
    "    for(int i = 0; i < playerCount; i++){\n",
    "        board[i] = 1 + (int) (Math.random() * 10);\n",
    "    }\n",
    "\n",
    "    currentPlayer = (int)(Math.random() * playerCount);\n",
    "}"
   ]
  },
  {
   "cell_type": "code",
   "execution_count": null,
   "metadata": {},
   "outputs": [],
   "source": [
    "public void distributeCurrentPlayer(){\n",
    "    for(int i = currentPlayer; i < board.length; i++){\n",
    "        board[i]++;\n",
    "    }\n",
    "}"
   ]
  },
  {
   "cell_type": "code",
   "execution_count": null,
   "metadata": {},
   "outputs": [],
   "source": [
    "public SkyView(int numRows, int numCols, double[] scanned){\n",
    "    view = new double[numRows][numCols];\n",
    "\n",
    "    int i = 0;\n",
    "    for(int r = 0; r < numRows; r++){\n",
    "        if (r % 2 == 0){\n",
    "            for(int c = 0; c < numCols; c++){\n",
    "                view[r][c] = scanned[i]\n",
    "                i++;\n",
    "            }\n",
    "        }\n",
    "        else{\n",
    "            for(int c = numCols - 1; c >= 0; c--){\n",
    "                view[r][c] = scanned[i]\n",
    "                i++;\n",
    "            }\n",
    "        }\n",
    "    }\n",
    "}"
   ]
  },
  {
   "cell_type": "code",
   "execution_count": null,
   "metadata": {},
   "outputs": [],
   "source": [
    "public double getAverage(int startRow, int endRow, int startCol, int endCol){\n",
    "    double sum = 0;\n",
    "    int i = 0;\n",
    "\n",
    "    for(int r = startRow; r <= endRow; r++){\n",
    "        for(int c = startCol; c<= endCol; c++){\n",
    "            sum += view[r][c];\n",
    "            i++;\n",
    "        }\n",
    "    }\n",
    "    return sum/i;\n",
    "}"
   ]
  },
  {
   "cell_type": "code",
   "execution_count": null,
   "metadata": {},
   "outputs": [],
   "source": [
    "public boolean findEmployeeForChild(Child c){\n",
    "    for(Employee e: employees){\n",
    "        if(e.childrenAssigned() < maxRatio && e.canTeach(c.getAge())){\n",
    "            e.assignChild(c);\n",
    "            return true;\n",
    "        }\n",
    "    }\n",
    "    return false;\n",
    "}"
   ]
  },
  {
   "cell_type": "code",
   "execution_count": 3,
   "metadata": {},
   "outputs": [],
   "source": [
    "public boolean runDayCare(){\n",
    "    for(Child c: children){\n",
    "        if(!findEmployeeForChild(c))\n",
    "            return false;\n",
    "    }\n",
    "    return true;\n",
    "}"
   ]
  },
  {
   "cell_type": "code",
   "execution_count": null,
   "metadata": {},
   "outputs": [],
   "source": [
    "public boolean addChild(Child c){\n",
    "    if(findEmployeeForChild(c)){\n",
    "        children.add(c);\n",
    "        return true;\n",
    "    }\n",
    "    return false;\n",
    "}"
   ]
  },
  {
   "cell_type": "code",
   "execution_count": null,
   "metadata": {},
   "outputs": [],
   "source": [
    "public class Player extends Person {\n",
    "    private String position;\n",
    "\n",
    "    public Player(String s, int a, String pos){\n",
    "        super(s, a);\n",
    "        position = pos;\n",
    "    }\n",
    "\n",
    "    public void changePosition(String pos){\n",
    "        position = pos; \n",
    "    }\n",
    "}"
   ]
  },
  {
   "cell_type": "code",
   "execution_count": null,
   "metadata": {},
   "outputs": [],
   "source": [
    "public static String getFirstName(String name){\n",
    "    int i = name.indexOf(\" \")\n",
    "    return name.substring(0, i);\n",
    "}"
   ]
  },
  {
   "cell_type": "code",
   "execution_count": null,
   "metadata": {},
   "outputs": [],
   "source": [
    "public static String getLastName(String name){\n",
    "    int i = name.indexOf(\" \");\n",
    "    return name.substring(i+1, name.length());\n",
    "}"
   ]
  },
  {
   "cell_type": "code",
   "execution_count": null,
   "metadata": {},
   "outputs": [],
   "source": [
    "public static int countVowels(String name){\n",
    "    int count = 0;\n",
    "\n",
    "    for(int i = 0; i < name.length(); i++){\n",
    "        if(name.substring(i, i+1).equals(a))\n",
    "    }\n",
    "}"
   ]
  }
 ],
 "metadata": {
  "kernelspec": {
   "display_name": "Java",
   "language": "java",
   "name": "java"
  },
  "language_info": {
   "codemirror_mode": "java",
   "file_extension": ".jshell",
   "mimetype": "text/x-java-source",
   "name": "java",
   "pygments_lexer": "java",
   "version": "17.0.5+9-LTS-191"
  },
  "orig_nbformat": 4
 },
 "nbformat": 4,
 "nbformat_minor": 2
}
