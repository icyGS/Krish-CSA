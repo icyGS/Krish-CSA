{
 "cells": [
  {
   "attachments": {},
   "cell_type": "markdown",
   "metadata": {},
   "source": [
    "# Quiz\n",
    "\n",
    "- toc: true \n",
    "- badges: true\n",
    "- comments: true\n",
    "- categories: [college board]"
   ]
  },
  {
   "attachments": {},
   "cell_type": "markdown",
   "metadata": {},
   "source": [
    "# Part 1 \n",
    "1. "
   ]
  },
  {
   "cell_type": "code",
   "execution_count": 19,
   "metadata": {
    "vscode": {
     "languageId": "java"
    }
   },
   "outputs": [
    {
     "name": "stdout",
     "output_type": "stream",
     "text": [
      "0. Barron's Computer Science \"A\"\n",
      "Shelf Life641000\n",
      "1. Angels and Demons\n",
      "Shelf Life1003375\n",
      "2. Lion, Witch, and a Wardrobe\n",
      "Shelf Life1194834\n",
      "Book count: 3\n"
     ]
    }
   ],
   "source": [
    "public class Book {\n",
    "    private static ArrayList<Book> library = new ArrayList<Book>();\n",
    "    private String title;\n",
    "    private int id;\n",
    "    private static int count;\n",
    "    public static long time;\n",
    "\n",
    "    public Book(String title) {\n",
    "        this.title = title;\n",
    "        int var = count;\n",
    "        this.id = count;\n",
    "        Book.count++;\n",
    "        startTime();\n",
    "    }\n",
    "\n",
    "    public void startTime(){\n",
    "        time = System.nanoTime();\n",
    "    }\n",
    "\n",
    "    public long shelfLife(){\n",
    "        return (System.nanoTime() - time);\n",
    "    }\n",
    "\n",
    "    public String toString() {\n",
    "        return id + \". \" + title;\n",
    "    }\n",
    "\n",
    "    // public int getShelfLife(){\n",
    "    //     return shelfLife;\n",
    "    // }\n",
    "    \n",
    "    public static void main(String[] args) {\n",
    "        Book[] books = {    // Use Array iniitialization to add book\n",
    "            new Book(\"Barron's Computer Science \\\"A\\\"\"),  // Set a new Book object as array element.\n",
    "            new Book(\"Angels and Demons\"),\n",
    "            new Book(\"Lion, Witch, and a Wardrobe\")\n",
    "        };\n",
    "\n",
    "        for (Book book : books) {  // Use Foreach syntax to iterate over array\n",
    "            System.out.println(book);   // this is same as book.toString()\n",
    "            System.out.println(\"Shelf Life\" + book.shelfLife());\n",
    "        }\n",
    "\n",
    "        System.out.println(\"Book count: \" + Book.count);\n",
    "        // System.out.println(books[0].time);\n",
    "        // System.out.println(\"Shelf Life\" + books[0].shelfLife());\n",
    "\n",
    "    }\n",
    "    \n",
    "}\n",
    "Book.main(null);"
   ]
  },
  {
   "cell_type": "code",
   "execution_count": 18,
   "metadata": {
    "vscode": {
     "languageId": "java"
    }
   },
   "outputs": [
    {
     "name": "stdout",
     "output_type": "stream",
     "text": [
      "9. The Great Gatsby written by F. Scott Fitzgerald\n",
      "10. Harry Potter written by J.K. Rowling\n",
      "11. Everything Everything written by Nicola Yoon\n",
      "Shelf Life: 579583\n",
      "12. The Great Gatsby\n",
      "Shelf Life: 311209\n",
      "13. Harry Potter\n",
      "Shelf Life: 701959\n",
      "14. Everything Everything\n",
      "Shelf Life: 945959\n"
     ]
    }
   ],
   "source": [
    "public class Novel extends Book {\n",
    "    private String author;\n",
    "    private int numCheckouts;\n",
    "    \n",
    "    public Novel(String title, String author){\n",
    "        super(title);\n",
    "        this.author = author;\n",
    "        startTime();\n",
    "\n",
    "    }\n",
    "\n",
    "    public String getAuthor(){\n",
    "        return author;\n",
    "    }\n",
    "\n",
    "    public void setAuthor(String author){\n",
    "        this.author = author;\n",
    "    }\n",
    "\n",
    "    public String toString(){\n",
    "        return super.toString() + \" written by \" + author;\n",
    "    }\n",
    "\n",
    "\n",
    "    public static void main(String[] args){\n",
    "        Novel[] novels = {\n",
    "            new Novel(\"The Great Gatsby\", \"F. Scott Fitzgerald\"),\n",
    "            new Novel(\"Harry Potter\", \"J.K. Rowling\"),\n",
    "            new Novel(\"Everything Everything\", \"Nicola Yoon\")\n",
    "        };\n",
    "\n",
    "        for (Novel novel : novels){\n",
    "            System.out.println(novel);\n",
    "            System.out.println(\"Shelf Life: \" + novel.shelfLife());\n",
    "        }\n",
    "\n",
    "        // System.out.println(novels[0].time);\n",
    "        // System.out.println(\"Shelf Life: \" + novels[0].shelfLife());\n",
    "\n",
    "    }\n",
    "}\n",
    "\n",
    "public class Textbook extends Book { \n",
    "    private String pubCompany;\n",
    "\n",
    "    public Textbook(String title, String pubCompany){\n",
    "        super(title);\n",
    "        this.pubCompany = pubCompany;\n",
    "        startTime();\n",
    "    }\n",
    "\n",
    "    public String getPubCompany(){\n",
    "        return pubCompany;\n",
    "    }\n",
    "\n",
    "    public void setPubCompany (String pubCompany){\n",
    "        this.pubCompany = pubCompany;\n",
    "    }\n",
    "\n",
    "    public static void main(String[] args){\n",
    "        Textbook[] textbooks = {\n",
    "            new Textbook(\"The Great Gatsby\", \"F. Scott Fitzgerald\"),\n",
    "            new Textbook(\"Harry Potter\", \"J.K. Rowling\"),\n",
    "            new Textbook(\"Everything Everything\", \"Nicola Yoon\")\n",
    "        };\n",
    "\n",
    "        for (Textbook textbook : textbooks){\n",
    "            System.out.println(textbook);\n",
    "            System.out.println(\"Shelf Life: \" + textbook.shelfLife());\n",
    "        }\n",
    "\n",
    "        // System.out.println(textbooks[0].time);\n",
    "        // System.out.println(\"Shelf Life: \" + textbooks[].shelfLife());\n",
    "\n",
    "    }\n",
    "}\n",
    "\n",
    "Novel.main(null);\n",
    "Textbook.main(null);"
   ]
  }
 ],
 "metadata": {
  "kernelspec": {
   "display_name": "Java",
   "language": "java",
   "name": "java"
  },
  "language_info": {
   "codemirror_mode": "java",
   "file_extension": ".jshell",
   "mimetype": "text/x-java-source",
   "name": "Java",
   "pygments_lexer": "java",
   "version": "17.0.5+9-LTS-191"
  },
  "orig_nbformat": 4
 },
 "nbformat": 4,
 "nbformat_minor": 2
}
