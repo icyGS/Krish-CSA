{
 "cells": [
  {
   "attachments": {},
   "cell_type": "markdown",
   "metadata": {},
   "source": [
    "# Quiz\n",
    "\n",
    "- toc: true \n",
    "- badges: true\n",
    "- comments: true\n",
    "- categories: [college board]"
   ]
  },
  {
   "attachments": {},
   "cell_type": "markdown",
   "metadata": {},
   "source": [
    "# Part 1 \n",
    "1. "
   ]
  },
  {
   "cell_type": "code",
   "execution_count": 27,
   "metadata": {
    "vscode": {
     "languageId": "java"
    }
   },
   "outputs": [
    {
     "name": "stdout",
     "output_type": "stream",
     "text": [
      "Percy Jackson\n",
      "Harry Potter\n",
      "Book count: 3\n"
     ]
    }
   ],
   "source": [
    "public class Book {\n",
    "    private String title;\n",
    "    private int id;\n",
    "    private static int count;\n",
    "    private int shelfLife;\n",
    "\n",
    "    public Book(String title) {\n",
    "        this.title = title;\n",
    "        this.id = (int) Math.random() * 100;\n",
    "        Book.count++;\n",
    "    }\n",
    "\n",
    "    public String toString() {\n",
    "        return title;\n",
    "    }\n",
    "\n",
    "    public int getShelfLife(){\n",
    "        return shelfLife;\n",
    "    }\n",
    "    \n",
    "\n",
    "    public static void main(String[] args) {\n",
    "        Book book1 = new Book(\"Percy Jackson\");\n",
    "        Book book2 = new Book(\"Harry Potter\");\n",
    "        Book book3 = new Book(\"Harry Potter 2\");\n",
    "\n",
    "\n",
    "        System.out.println(book1);\n",
    "        System.out.println(book2);\n",
    "        System.out.println(\"Book count: \" + Book.count);\n",
    "    }\n",
    "    \n",
    "}\n",
    "Book.main(null);"
   ]
  },
  {
   "cell_type": "code",
   "execution_count": null,
   "metadata": {
    "vscode": {
     "languageId": "java"
    }
   },
   "outputs": [],
   "source": [
    "public class Novel extends Book {\n",
    "    private String Author;\n",
    "    private int numCheckouts;\n",
    "    \n",
    "    Novel(String title, String Author){\n",
    "        super(title);\n",
    "        this.Author = Author;\n",
    "    }\n",
    "\n",
    "    public String getAuthor(){\n",
    "        return Author;\n",
    "    }\n",
    "\n",
    "    public void setAuthor(String Author){\n",
    "        this.Author = Author;\n",
    "    }\n",
    "\n",
    "    public int setShelfLife(){\n",
    "        if (numCheckouts)\n",
    "    }\n",
    "    \n",
    "}\n",
    "\n",
    "public class Textbook extends Book { \n",
    "    private String publishingCompany;\n",
    "\n",
    "    Novel(String title, String publishingCompany){\n",
    "        super(title);\n",
    "        this.publishingCompany = publishingCompany;\n",
    "    }\n",
    "\n",
    "    public String getPublishingCompany(){\n",
    "        return publishingCompany;\n",
    "    }\n",
    "\n",
    "    public String setPublishingCompany (String publishingCompany){\n",
    "        this.publishingCompany = publishingCompany;\n",
    "    }\n",
    "}"
   ]
  }
 ],
 "metadata": {
  "kernelspec": {
   "display_name": "Java",
   "language": "java",
   "name": "java"
  },
  "language_info": {
   "codemirror_mode": "java",
   "file_extension": ".jshell",
   "mimetype": "text/x-java-source",
   "name": "Java",
   "pygments_lexer": "java",
   "version": "17.0.5+9-LTS-191"
  },
  "orig_nbformat": 4
 },
 "nbformat": 4,
 "nbformat_minor": 2
}
