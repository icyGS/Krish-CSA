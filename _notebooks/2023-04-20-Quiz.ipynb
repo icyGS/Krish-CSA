{
 "cells": [
  {
   "attachments": {},
   "cell_type": "markdown",
   "metadata": {},
   "source": [
    "# Quiz\n",
    "\n",
    "- toc: true \n",
    "- badges: true\n",
    "- comments: true\n",
    "- categories: [college board]"
   ]
  },
  {
   "attachments": {},
   "cell_type": "markdown",
   "metadata": {},
   "source": [
    "# Part 1 \n",
    "1. "
   ]
  },
  {
   "cell_type": "code",
   "execution_count": 41,
   "metadata": {
    "vscode": {
     "languageId": "java"
    }
   },
   "outputs": [
    {
     "name": "stdout",
     "output_type": "stream",
     "text": [
      "Barron's Computer Science \"A\"\n",
      "Angels and Demons\n",
      "Lion, Witch, and a Wardrobe\n",
      "Book count: 3\n",
      "94410850826416\n"
     ]
    }
   ],
   "source": [
    "public class Book {\n",
    "    private static ArrayList<Book> library = new ArrayList<Book>();\n",
    "    private String title;\n",
    "    private int id;\n",
    "    private static int count;\n",
    "    public long time;\n",
    "\n",
    "    public Book(String title) {\n",
    "        this.title = title;\n",
    "        int var = count;\n",
    "        this.id = count;\n",
    "        Book.count++;\n",
    "        startTime();\n",
    "    }\n",
    "\n",
    "    public void startTime(){\n",
    "        time = System.nanoTime();\n",
    "    }\n",
    "\n",
    "    public String toString() {\n",
    "        return title;\n",
    "    }\n",
    "\n",
    "    // public int getShelfLife(){\n",
    "    //     return shelfLife;\n",
    "    // }\n",
    "    \n",
    "    public static void main(String[] args) {\n",
    "        Book[] books = {    // Use Array iniitialization to add book\n",
    "            new Book(\"Barron's Computer Science \\\"A\\\"\"),  // Set a new Book object as array element.\n",
    "            new Book(\"Angels and Demons\"),\n",
    "            new Book(\"Lion, Witch, and a Wardrobe\")\n",
    "        };\n",
    "\n",
    "        for (Book book : books) {  // Use Foreach syntax to iterate over array\n",
    "            System.out.println(book);   // this is same as book.toString()\n",
    "        }\n",
    "\n",
    "        System.out.println(\"Book count: \" + Book.count);\n",
    "        System.out.println(books[0].time);\n",
    "\n",
    "    }\n",
    "    \n",
    "}\n",
    "Book.main(null);"
   ]
  },
  {
   "cell_type": "code",
   "execution_count": 42,
   "metadata": {
    "vscode": {
     "languageId": "java"
    }
   },
   "outputs": [
    {
     "ename": "CompilationException",
     "evalue": "",
     "output_type": "error",
     "traceback": [
      "\u001b[1m\u001b[30m|   \u001b[1m\u001b[30m        for (\u001b[0m\u001b[1m\u001b[30m\u001b[41mTextbook textbook\u001b[0m\u001b[1m\u001b[30m : textbook){\u001b[0m",
      "\u001b[1m\u001b[31mvariable textbook is already defined in method main(java.lang.String[])\u001b[0m",
      ""
     ]
    }
   ],
   "source": [
    "public class Novel extends Book {\n",
    "    private String author;\n",
    "    private int numCheckouts;\n",
    "    \n",
    "    public Novel(String title, String author){\n",
    "        super(title);\n",
    "        this.author = author;\n",
    "        startTime();\n",
    "\n",
    "    }\n",
    "\n",
    "    public String getAuthor(){\n",
    "        return author;\n",
    "    }\n",
    "\n",
    "    public void setAuthor(String author){\n",
    "        this.author = author;\n",
    "    }\n",
    "\n",
    "    public String toString(){\n",
    "        return super.toString() + \" written by \" + author;\n",
    "    }\n",
    "\n",
    "\n",
    "    public static void main(String[] args){\n",
    "        Novel[] novels = {\n",
    "            new Novel(\"The Great Gatsby\", \"F. Scott Fitzgerald\"),\n",
    "            new Novel(\"Harry Potter\", \"J.K. Rowling\"),\n",
    "            new Novel(\"Everything Everything\", \"Nicola Yoon\")\n",
    "        };\n",
    "\n",
    "        for (Novel novel : novels){\n",
    "            System.out.println(novel);\n",
    "        }\n",
    "\n",
    "        System.out.println(novels[0].time);\n",
    "\n",
    "    }\n",
    "}\n",
    "\n",
    "public class Textbook extends Book { \n",
    "    private String pubCompany;\n",
    "\n",
    "    public Textbook(String title, String pubCompany){\n",
    "        super(title);\n",
    "        this.pubCompany = pubCompany;\n",
    "        startTime();\n",
    "    }\n",
    "\n",
    "    public String getPubCompany(){\n",
    "        return pubCompany;\n",
    "    }\n",
    "\n",
    "    public void setPubCompany (String pubCompany){\n",
    "        this.pubCompany = pubCompany;\n",
    "    }\n",
    "\n",
    "    public static void main(String[] args){\n",
    "        Textbook[] textbook = {\n",
    "            new Textbook(\"The Great Gatsby\", \"F. Scott Fitzgerald\"),\n",
    "            new Textbook(\"Harry Potter\", \"J.K. Rowling\"),\n",
    "            new Textbook(\"Everything Everything\", \"Nicola Yoon\")\n",
    "        };\n",
    "\n",
    "        for (Textbook textbook : textbook){\n",
    "            System.out.println(textbook);\n",
    "        }\n",
    "\n",
    "        System.out.println(textbook[0].time);\n",
    "\n",
    "    }\n",
    "}\n",
    "\n",
    "Novel.main(null);"
   ]
  }
 ],
 "metadata": {
  "kernelspec": {
   "display_name": "Java",
   "language": "java",
   "name": "java"
  },
  "language_info": {
   "codemirror_mode": "java",
   "file_extension": ".jshell",
   "mimetype": "text/x-java-source",
   "name": "Java",
   "pygments_lexer": "java",
   "version": "17.0.5+9-LTS-191"
  },
  "orig_nbformat": 4
 },
 "nbformat": 4,
 "nbformat_minor": 2
}
