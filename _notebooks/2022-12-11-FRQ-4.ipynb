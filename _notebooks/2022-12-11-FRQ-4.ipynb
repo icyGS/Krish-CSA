{
 "cells": [
  {
   "cell_type": "markdown",
   "metadata": {},
   "source": [
    "# FRQ 4\n",
    "\n",
    "- toc: true \n",
    "- badges: true\n",
    "- comments: true\n",
    "- categories: [college board]"
   ]
  },
  {
   "cell_type": "markdown",
   "metadata": {},
   "source": [
    "# FRQ 4 (Collegeboard)\n",
    "Only the collegeboard portions here, rest found on review ticket"
   ]
  },
  {
   "cell_type": "code",
   "execution_count": null,
   "metadata": {},
   "outputs": [],
   "source": [
    "import java.util.Random;\n",
    "\n",
    "public class LightBoard{\n",
    "    /** The lights on the board, where true represents on and false represents off.\n",
    "    */ \n",
    "    private boolean[][] lights;\n",
    "\n",
    "    public LightBoard(int numRows, int numCols){\n",
    "    /** Constructs a LightBoard object having numRows rows and numCols columns.\n",
    "     * Precondition: numRows > 0, numCols > 0\n",
    "     * Postcondition: each light has a 40% probability of being set to on.\n",
    "     */ \n",
    "        lights = new boolean[numRows][numCols];\n",
    "\n",
    "        for(int row = 0; row < numRows; row++){\n",
    "            for(int col = 0; col < numCols; col++){\n",
    "                if(Math.random() < 0.4){\n",
    "                    lights[row][col] = new Light();  \n",
    "                }\n",
    "            }\n",
    "        }\n",
    "    \n",
    "    }\n",
    "\n",
    "    /** Evaluates a light in row index row and column index col and returns a status\n",
    "     * as described in part (b).\n",
    "     * Precondition: row and col are valid indexes in lights.\n",
    "     */\n",
    "    public boolean evaluateLight(int row, int col){\n",
    "        if (lights[row][col] == true) {\n",
    "            int count = 0;\n",
    "\n",
    "            for (int r = 0; r < lights.length; r++){\n",
    "               if (lights[r][col] == true){\n",
    "                   count++;\n",
    "               }\n",
    "            }\n",
    "            if (count % 2  == 1){\n",
    "               return true;\n",
    "            }\n",
    "            else{\n",
    "               return false;\n",
    "            }\n",
    "\n",
    "        } \n",
    "        else if (lights[row][col] == false) {\n",
    "            int count = 0;\n",
    "            \n",
    "            for (int r = 0; r < lights.length; r++){\n",
    "                if (lights[r][col] == true){\n",
    "                    count++;\n",
    "                }\n",
    "            }\n",
    "            if (count % 3 == 0) {\n",
    "                return true;\n",
    "            }\n",
    "            else {\n",
    "                return false;\n",
    "            }\n",
    "        }\n",
    "    }\n",
    "}"
   ]
  }
 ],
 "metadata": {
  "kernelspec": {
   "display_name": "Java",
   "language": "java",
   "name": "java"
  },
  "language_info": {
   "name": "java",
   "version": "3.9.5"
  },
  "orig_nbformat": 4,
  "vscode": {
   "interpreter": {
    "hash": "aee8b7b246df8f9039afb4144a1f6fd8d2ca17a180786b69acc140d282b71a49"
   }
  }
 },
 "nbformat": 4,
 "nbformat_minor": 2
}
