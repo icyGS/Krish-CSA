{
 "cells": [
  {
   "cell_type": "markdown",
   "metadata": {},
   "source": [
    "# Unit 9\n",
    "\n",
    "- toc: true \n",
    "- badges: true\n",
    "- comments: true\n",
    "- categories: [college board]"
   ]
  },
  {
   "cell_type": "markdown",
   "metadata": {},
   "source": [
    "# Inheritance\n",
    "- Create a super class and subclass\n",
    "  - Characteristics are extended to the subclass of the superclass"
   ]
  },
  {
   "cell_type": "code",
   "execution_count": 1,
   "metadata": {
    "vscode": {
     "languageId": "java"
    }
   },
   "outputs": [],
   "source": [
    "public class A{\n",
    "\n",
    "}\n",
    "\n",
    "public class B extends A{\n",
    "    \n",
    "}"
   ]
  },
  {
   "cell_type": "markdown",
   "metadata": {},
   "source": [
    "- Allows reusing the code and adding attributes\n",
    "- Subclass can become a superclass as well by extending the subclass\n",
    "- Super is used to call the superclass\n",
    "## Overriding\n",
    "- @Override to indicate that you are overriding the superclass\n",
    "- Makes code more readable\n",
    "- Resets the name of the superclass\n",
    "\n",
    "## Creating References using Inheritance Hierarchies\n",
    "- Lower levels of hierarchy inherit upper levels of hierarchy\n",
    "\n",
    "## Polymorphism\n",
    "- Multiple classes that are related by inheritance\n",
    "- Object superclass contains \n",
    "  - equals()\n",
    "  - toString()\n",
    "\n",
    "# Homework\n",
    "- Create a world cup superclass with properties of your choice and subclasses for five teams which inherits those properties\n",
    "- Write a constructor for one of those subclasses"
   ]
  },
  {
   "cell_type": "code",
   "execution_count": 7,
   "metadata": {
    "vscode": {
     "languageId": "java"
    }
   },
   "outputs": [
    {
     "name": "stdout",
     "output_type": "stream",
     "text": [
      "Argentina: Jersey Color = Blue + White, Semi Finals = true, Finals = true\n",
      "Croatia: Jersey Color = Red + White, Semi Finals = true, Finals = false\n",
      "France: Jersey Color = Blue + White + Red, Semi Finals = true, Finals = true\n",
      "Morocco: Jersey Color = Red + Green, Semi Finals = true, Finals = true\n"
     ]
    }
   ],
   "source": [
    "public class SemiFinalTeam{\n",
    "    String jerseyColor;\n",
    "    boolean semiFinals;\n",
    "    boolean finals;\n",
    "\n",
    "    public SemiFinalTeam(){\n",
    "        this.semiFinals = true;\n",
    "    }\n",
    "\n",
    "    public static void determineResults(SemiFinalTeam team1, SemiFinalTeam team2){\n",
    "        team1.SemiFinalResult();\n",
    "        team2.SemiFinalResult();\n",
    "    }\n",
    "\n",
    "    public void SemiFinalResult(){\n",
    "        \n",
    "    }\n",
    "\n",
    "    public static void main(String[] args){\n",
    "        Argentina argentina = new Argentina();\n",
    "        Croatia croatia = new Croatia();\n",
    "        France france = new France();\n",
    "        Morocco morocco = new Morocco();\n",
    "        SemiFinalTeam.determineResults(croatia, argentina);\n",
    "        SemiFinalTeam.determineResults(france, morocco);\n",
    "        System.out.println(\"Argentina: \" + \"Jersey Color = \" + argentina.jerseyColor + \", Semi Finals = \" + argentina.semiFinals + \", Finals = \" + argentina.finals);\n",
    "        System.out.println(\"Croatia: \" + \"Jersey Color = \" + croatia.jerseyColor + \", Semi Finals = \" + croatia.semiFinals + \", Finals = \" + croatia.finals);\n",
    "        System.out.println(\"France: \" + \"Jersey Color = \" + france.jerseyColor + \", Semi Finals = \" + france.semiFinals + \", Finals = \" + france.finals);\n",
    "        System.out.println(\"Morocco: \" + \"Jersey Color = \" + morocco.jerseyColor + \", Semi Finals = \" + morocco.semiFinals + \", Finals = \" + morocco.finals);\n",
    "    }\n",
    "}\n",
    "\n",
    "\n",
    "public class Argentina extends SemiFinalTeam{\n",
    "    public Argentina(){\n",
    "        super();\n",
    "        super.jerseyColor = \"Blue + White\";\n",
    "    }\n",
    "\n",
    "    public void SemiFinalResult(){\n",
    "        super.finals = true;\n",
    "    }\n",
    "}\n",
    "\n",
    "public class Croatia extends SemiFinalTeam{\n",
    "    public Croatia(){\n",
    "        super();\n",
    "        super.jerseyColor = \"Red + White\";\n",
    "    }\n",
    "\n",
    "    public void SemiFinalResult(){\n",
    "        super.finals = false;\n",
    "    }\n",
    "}\n",
    "\n",
    "public class France extends SemiFinalTeam{\n",
    "    public France(){\n",
    "        super();\n",
    "        super.jerseyColor = \"Blue + White + Red\";\n",
    "    }\n",
    "\n",
    "    public void SemiFinalResult(){\n",
    "        super.finals = true;\n",
    "    }\n",
    "}\n",
    "\n",
    "public class Morocco extends SemiFinalTeam{\n",
    "    public Morocco(){\n",
    "        super();\n",
    "        super.jerseyColor = \"Red + Green\";\n",
    "    }\n",
    "\n",
    "    public void SemiFinalResult(){\n",
    "        super.finals = true;\n",
    "    }\n",
    "}\n",
    "\n",
    "SemiFinalTeam.main(null);"
   ]
  }
 ],
 "metadata": {
  "kernelspec": {
   "display_name": "Java",
   "language": "java",
   "name": "java"
  },
  "language_info": {
   "codemirror_mode": "java",
   "file_extension": ".jshell",
   "mimetype": "text/x-java-source",
   "name": "Java",
   "pygments_lexer": "java",
   "version": "17.0.5+9-LTS-191"
  },
  "orig_nbformat": 4
 },
 "nbformat": 4,
 "nbformat_minor": 2
}
