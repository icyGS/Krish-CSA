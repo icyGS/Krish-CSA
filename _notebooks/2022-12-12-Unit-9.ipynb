{
 "cells": [
  {
   "cell_type": "markdown",
   "metadata": {},
   "source": [
    "# Unit 9\n",
    "\n",
    "- toc: true \n",
    "- badges: true\n",
    "- comments: true\n",
    "- categories: [college board]"
   ]
  },
  {
   "cell_type": "markdown",
   "metadata": {},
   "source": [
    "# Inheritance\n",
    "- Create a super class and subclass\n",
    "  - Characteristics are extended to the subclass of the superclass"
   ]
  },
  {
   "cell_type": "code",
   "execution_count": 1,
   "metadata": {},
   "outputs": [],
   "source": [
    "public class A{\n",
    "\n",
    "}\n",
    "\n",
    "public class B extends A{\n",
    "    \n",
    "}"
   ]
  },
  {
   "cell_type": "markdown",
   "metadata": {},
   "source": [
    "- Allows reusing the code and adding attributes\n",
    "- Subclass can become a superclass as well by extending the subclass\n",
    "- Super is used to call the superclass\n",
    "## Overriding\n",
    "- @Override to indicate that you are overriding the superclass\n",
    "- Makes code more readable\n",
    "- Resets the name of the superclass\n",
    "\n",
    "## Creating References using Inheritance Hierarchies\n",
    "- Lower levels of hierarchy inherit upper levels of hierarchy\n",
    "\n",
    "## Polymorphism\n",
    "- Multiple classes that are related by inheritance\n",
    "- Object superclass contains \n",
    "  - equals()\n",
    "  - toString()\n",
    "\n",
    "# Homework\n",
    "- Create a world cup superclass with properties of your choice and subclasses for five teams which inherits those properties\n",
    "- Write a constructor for one of those subclasses"
   ]
  }
 ],
 "metadata": {
  "kernelspec": {
   "display_name": "Java",
   "language": "java",
   "name": "java"
  },
  "language_info": {
   "codemirror_mode": "java",
   "file_extension": ".jshell",
   "mimetype": "text/x-java-source",
   "name": "java",
   "pygments_lexer": "java",
   "version": "17.0.5+9-LTS-191"
  },
  "orig_nbformat": 4
 },
 "nbformat": 4,
 "nbformat_minor": 2
}
