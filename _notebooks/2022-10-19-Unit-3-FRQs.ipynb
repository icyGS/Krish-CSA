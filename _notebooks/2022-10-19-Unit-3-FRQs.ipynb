{
 "cells": [
  {
   "cell_type": "markdown",
   "metadata": {},
   "source": [
    "# Unit 3 FRQ's\n",
    "\n",
    "- toc: true \n",
    "- badges: true\n",
    "- comments: true\n",
    "- categories: [college board]"
   ]
  },
  {
   "cell_type": "markdown",
   "metadata": {},
   "source": [
    "# 2009 3b"
   ]
  },
  {
   "cell_type": "code",
   "execution_count": null,
   "metadata": {},
   "outputs": [],
   "source": [
    "public int getChargeStartTime(int chargeTime){\n",
    "    int startTime = 0;\n",
    "    for (int i = 1; i < 24; i++){\n",
    "        if (this.getChargingCost(i, chargeTime) < this.getChargingCost(startTime, chargeTime)){\n",
    "            startTime = i;\n",
    "        }\n",
    "    }\n",
    "    return startTime; \n",
    "}"
   ]
  },
  {
   "cell_type": "markdown",
   "metadata": {},
   "source": [
    "# 2017 1b"
   ]
  },
  {
   "cell_type": "code",
   "execution_count": null,
   "metadata": {},
   "outputs": [],
   "source": [
    "/** Returns true if the digits in this Digits object are in strictly increasing order;\n",
    " * false otherwise.\n",
    " */ \n",
    "\n",
    "public boolean isStrictlyIncreasing(){\n",
    "    for(int i = 1; i < digitList.size(); i++){\n",
    "        if (digitList.get(i-1).compareTo(digitList.get(i)) >= 0){\n",
    "            return false;\n",
    "        }\n",
    "        else{\n",
    "            return true;\n",
    "        }\n",
    "    }\n",
    "}"
   ]
  },
  {
   "cell_type": "markdown",
   "metadata": {},
   "source": [
    "# 2019 3b"
   ]
  },
  {
   "cell_type": "code",
   "execution_count": null,
   "metadata": {},
   "outputs": [],
   "source": [
    "public boolean isBalanced(ArrayList<String> delimiters) {\n",
    "    int numOpen = 0\n",
    "    int numClosed = 0;\n",
    "\n",
    "    for(String d:delimiters){\n",
    "        if(d.equals(openDel)){\n",
    "            numOpen++;\n",
    "        }\n",
    "        if(d.equals(closeDel)){\n",
    "            numClosed++;\n",
    "        }\n",
    "    }\n",
    "\n",
    "    if(numOpen == numClosed){\n",
    "        return true;\n",
    "    }\n",
    "    else{\n",
    "        return false;\n",
    "    }\n",
    "}"
   ]
  }
 ],
 "metadata": {
  "kernelspec": {
   "display_name": "Java",
   "language": "java",
   "name": "java"
  },
  "language_info": {
   "name": "java",
   "version": "3.9.5"
  },
  "orig_nbformat": 4,
  "vscode": {
   "interpreter": {
    "hash": "aee8b7b246df8f9039afb4144a1f6fd8d2ca17a180786b69acc140d282b71a49"
   }
  }
 },
 "nbformat": 4,
 "nbformat_minor": 2
}
