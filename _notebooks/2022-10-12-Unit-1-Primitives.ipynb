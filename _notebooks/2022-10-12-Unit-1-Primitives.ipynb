{
 "cells": [
  {
   "cell_type": "markdown",
   "metadata": {},
   "source": [
    "# Unit 1 Primitives\n",
    "\n",
    "- toc: true \n",
    "- badges: true\n",
    "- comments: true\n",
    "- categories: [college board]"
   ]
  },
  {
   "cell_type": "markdown",
   "metadata": {},
   "source": [
    "# Overview\n",
    "\n",
    "- Primitive data types\n",
    "  - ints\n",
    "  - booleans\n",
    "  - doubles\n",
    "  - chars\n",
    "\n",
    "- String literals: String created when you double quote String\n",
    "- Literal: Something that means exactly what you define it to\n",
    "- Errors Types:\n",
    "  - syntax error\n",
    "  - exception\n",
    "  - logic error\n",
    "\n",
    "# Variables\n",
    "- defined when you put the type of variable that it is before hand and then initiate it\n",
    "- must use camel case when naming variables\n",
    "- example:"
   ]
  },
  {
   "cell_type": "code",
   "execution_count": null,
   "metadata": {
    "vscode": {
     "languageId": "java"
    }
   },
   "outputs": [],
   "source": [
    "int score;"
   ]
  },
  {
   "cell_type": "markdown",
   "metadata": {},
   "source": [
    "# Arithmetic Operators\n",
    "- There are + - * and /\n",
    "- Represent add, subtract, multiply, and divide\n",
    "- Integer operations result in integers\n",
    "- Both int and double produce double\n",
    "- only doubles produces double\n",
    "- dividing by 0 is an arithmetic exception"
   ]
  },
  {
   "cell_type": "code",
   "execution_count": 2,
   "metadata": {
    "vscode": {
     "languageId": "java"
    }
   },
   "outputs": [
    {
     "name": "stdout",
     "output_type": "stream",
     "text": [
      "11\n"
     ]
    }
   ],
   "source": [
    "int x = 5;\n",
    "int y = 6;\n",
    "System.out.println(x+y);"
   ]
  },
  {
   "cell_type": "markdown",
   "metadata": {},
   "source": [
    "# Compound operators\n",
    "- +=, -=, *=, /=, %=\n",
    "- Changes value of variable by doing arithmetic operation with that variable\n",
    "\n",
    "## Increment operators\n",
    "- ++ or -- which either go up 1 or go down 1\n",
    "  - useful for for loops\n",
    "\n",
    "# Casting\n",
    "- Treating a variable as another type of variable\n",
    "- Operators: (int) or (double)\n",
    "\n",
    "## Division \n",
    "- Two integers become 1 integer\n",
    "- A double and an integer become a double\n"
   ]
  },
  {
   "cell_type": "markdown",
   "metadata": {},
   "source": [
    "# 2006 FRQ\n",
    "## 2a\n",
    "A set of classes is used to represent various items that are available for purchase. Items are either taxable or nontaxable. The purchase price of a taxable item is computed from its list price and its tax rate. The purchase price of a nontaxable item is simply its list price. Part of the class hierarchy is shown in the diagram below.\n",
    "\n",
    "Write the TaxableItem method purchasePrice. The purchase price of a TaxableItem is its list price plus the tax on the item. The tax is computed by multiplying the list price by the tax rate. For example, if the tax rate is 0.10 (representing 10%), the purchase price of an item with a list price of 7.15. Complete method purchasePrice below."
   ]
  },
  {
   "cell_type": "code",
   "execution_count": null,
   "metadata": {
    "vscode": {
     "languageId": "java"
    }
   },
   "outputs": [],
   "source": [
    "// returns the price of the item including the tax\n",
    "public double purchasePrice(){\n",
    "    double price = 1.1 * getListPrice();\n",
    "    return price;\n",
    "}"
   ]
  },
  {
   "cell_type": "markdown",
   "metadata": {},
   "source": [
    "## 3a\n",
    "Consider the following incomplete class that stores information about a customer, which includes a name and unique ID (a positive integer). To facilitate sorting, customers are ordered alphabetically by name. If two or more customers have the same name, they are further ordered by ID number. A particular customer is \"greater than\" another customer if that particular customer appears later in the ordering than the other customer.\n",
    "\n",
    "Write the Customer method compareCustomer, which compares this customer to a given customer, other. Customers are ordered alphabetically by name, using the compareTo method of the String class. If the names of the two customers are the same, then the customers are ordered by ID number. Method compareCustomer should return a positive integer if this customer is greater than other, a negative integer if this customer is less than other, and 0 if they are the same."
   ]
  },
  {
   "cell_type": "code",
   "execution_count": null,
   "metadata": {
    "vscode": {
     "languageId": "java"
    }
   },
   "outputs": [],
   "source": [
    "public int compareCustomer(Customer other){\n",
    "    int nameCompare = this.getName().compareTo(other.getName());\n",
    "    if(nameCompare == 0){\n",
    "        return this.getID() - other.getID();\n",
    "    }\n",
    "    else{\n",
    "        return nameCompare;\n",
    "    }\n",
    "}"
   ]
  }
 ],
 "metadata": {
  "kernelspec": {
   "display_name": "Java",
   "language": "java",
   "name": "java"
  },
  "language_info": {
   "codemirror_mode": "java",
   "file_extension": ".jshell",
   "mimetype": "text/x-java-source",
   "name": "Java",
   "pygments_lexer": "java",
   "version": "17.0.5+9-LTS-191"
  },
  "orig_nbformat": 4
 },
 "nbformat": 4,
 "nbformat_minor": 2
}
