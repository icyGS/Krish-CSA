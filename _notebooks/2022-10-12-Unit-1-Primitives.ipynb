{
 "cells": [
  {
   "cell_type": "markdown",
   "metadata": {},
   "source": [
    "# Unit 1: Primitives\n",
    "\n",
    "- toc: true \n",
    "- badges: true\n",
    "- comments: true\n",
    "- categories: [college board]"
   ]
  },
  {
   "cell_type": "markdown",
   "metadata": {},
   "source": [
    "# Primitives\n",
    "\n",
    "Unit 1 of college board\n",
    "\n",
    "## Key Vocab\n",
    "- String literals\n",
    "- Literals\n",
    "- exceptions\n",
    "\n",
    "\n",
    "## Why Java?\n",
    "- java has a simple syntax\n",
    "- garbage collection\n",
    "- very flexible\n",
    "- multithreading\n",
    "  - Allows multiple programs to be run at once\n",
    "\n",
    "## Primitives \n",
    "- Predefined\n",
    "- lowercase\n",
    "- cannot call methods\n",
    "- value\n",
    "- different sizes\n",
    "- Boolean\n",
    "- Int\n",
    "- Double\n",
    "- char float long etc\n",
    "\n",
    "## Naming conventions\n",
    "- variables\n",
    "  - letters numbers or underscores\n",
    "  - no special characters\n",
    "  - lowercase and then capital\n",
    "  - final means you can't change it later\n",
    "- Casting\n",
    "  - Changing a value from one type to another\n",
    "  - Widening happens automatically by making a smaller data type to a bigger\n",
    "    - Narrowing is the opposite\n",
    "\n",
    "\n",
    "\n",
    "## User input \n",
    "- import a scanner\n",
    "- make a new scanner object\n",
    "- declare a variable to equal to the datatype\n"
   ]
  },
  {
   "cell_type": "markdown",
   "metadata": {},
   "source": [
    "# 2006 FRQ \n",
    "## 2a\n",
    "A set of classes is used to represent various items that are available for purchase. Items are either taxable or\n",
    "nontaxable. The purchase price of a taxable item is computed from its list price and its tax rate. The purchase\n",
    "price of a nontaxable item is simply its list price. Part of the class hierarchy is shown in the diagram below. \n",
    "\n",
    "Write the TaxableItem method purchasePrice. The purchase price of a TaxableItem is its\n",
    "list price plus the tax on the item. The tax is computed by multiplying the list price by the tax rate. For\n",
    "example, if the tax rate is 0.10 (representing 10%), the purchase price of an item with a list price of $6.50\n",
    "would be $7.15.\n",
    " Complete method purchasePrice below. "
   ]
  },
  {
   "cell_type": "code",
   "execution_count": null,
   "metadata": {},
   "outputs": [],
   "source": [
    " // returns the price of the item including the tax\n",
    " public double purchasePrice(){\n",
    "    double price = 1.1 * getListPrice();\n",
    "    return price;\n",
    "}"
   ]
  },
  {
   "cell_type": "markdown",
   "metadata": {},
   "source": [
    "## 3a\n",
    "Consider the following incomplete class that stores information about a customer, which includes a name\n",
    "and unique ID (a positive integer). To facilitate sorting, customers are ordered alphabetically by name. If\n",
    "two or more customers have the same name, they are further ordered by ID number. A particular customer is\n",
    "\"greater than\" another customer if that particular customer appears later in the ordering than the other customer. \n",
    "\n",
    "Write the Customer method compareCustomer, which compares this customer to a given\n",
    "customer, other. Customers are ordered alphabetically by name, using the compareTo method of the\n",
    "String class. If the names of the two customers are the same, then the customers are ordered by ID\n",
    "number. Method compareCustomer should return a positive integer if this customer is greater than\n",
    "other, a negative integer if this customer is less than other, and 0 if they are the same. "
   ]
  },
  {
   "cell_type": "code",
   "execution_count": null,
   "metadata": {},
   "outputs": [],
   "source": [
    "public int compareCustomer(Customer other){\n",
    "    int nameCompare = this.getName().compareTo(other.getName());\n",
    "    if(nameCompare == 0){\n",
    "        return this.getID() - other.getID();\n",
    "    }\n",
    "    else{\n",
    "        return nameCompare;\n",
    "    }\n",
    "}"
   ]
  }
 ],
 "metadata": {
  "kernelspec": {
   "display_name": "Java",
   "language": "java",
   "name": "java"
  },
  "language_info": {
   "codemirror_mode": "java",
   "file_extension": ".jshell",
   "mimetype": "text/x-java-source",
   "name": "java",
   "pygments_lexer": "java",
   "version": "17.0.4.1+1-LTS-2"
  },
  "orig_nbformat": 4,
  "vscode": {
   "interpreter": {
    "hash": "aee8b7b246df8f9039afb4144a1f6fd8d2ca17a180786b69acc140d282b71a49"
   }
  }
 },
 "nbformat": 4,
 "nbformat_minor": 2
}
