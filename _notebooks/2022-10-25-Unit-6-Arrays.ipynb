{
 "cells": [
  {
   "cell_type": "markdown",
   "metadata": {},
   "source": [
    "# Unit 4 Arrays\n",
    "\n",
    "- toc: true \n",
    "- badges: true\n",
    "- comments: true\n",
    "- categories: [college board]"
   ]
  },
  {
   "cell_type": "markdown",
   "metadata": {},
   "source": [
    "# Declaring Arrays\n",
    "Two types, arrays and ArrayLists\n",
    "Primitive data types contain a single var type (int, charm float)\n",
    "Referenced (string array classes)\n",
    "\n",
    "# Array Syntax\n",
    "int[] array = new int[10];\n",
    "\n",
    "# Common Errors\n",
    "values has 10 elements but the index can only range from 0 to 9\n",
    "Work like objects so must initialize\n",
    "\n",
    "# Traverse an Array\n",
    "Main way is For loops where you go through each element of the array (enhanced or basic)\n",
    "Basic For loop is For when you know number of elements"
   ]
  }
 ],
 "metadata": {
  "kernelspec": {
   "display_name": "Java",
   "language": "java",
   "name": "java"
  },
  "language_info": {
   "name": "java",
   "version": "3.9.5"
  },
  "orig_nbformat": 4,
  "vscode": {
   "interpreter": {
    "hash": "aee8b7b246df8f9039afb4144a1f6fd8d2ca17a180786b69acc140d282b71a49"
   }
  }
 },
 "nbformat": 4,
 "nbformat_minor": 2
}
