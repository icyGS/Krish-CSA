{
 "cells": [
  {
   "cell_type": "markdown",
   "metadata": {},
   "source": [
    "# Unit 4 Arrays\n",
    "\n",
    "- toc: true \n",
    "- badges: true\n",
    "- comments: true\n",
    "- categories: [final]"
   ]
  },
  {
   "cell_type": "markdown",
   "metadata": {},
   "source": [
    "# Declaring Arrays\n",
    "Two types, arrays and ArrayLists\n",
    "Primitive data types contain a single var type (int, charm float)\n",
    "Referenced (string array classes)\n",
    "\n",
    "# Array Syntax\n",
    "int[] array = new int[10];\n",
    "\n",
    "# Common Errors\n",
    "values has 10 elements but the index can only range from 0 to 9\n",
    "Work like objects so must initialize\n",
    "\n",
    "# Traverse an Array\n",
    "Main way is For loops where you go through each element of the array (enhanced or basic)\n",
    "Basic For loop is For when you know number of elements"
   ]
  },
  {
   "cell_type": "markdown",
   "metadata": {},
   "source": [
    "# Homework\n",
    "Write a class called ArrayMethods that contains two methods that utilize/manipulate an array. You may choose 2 of the 4 options below to complete. Extra credit for doing all 4 options. Make sure to show test cases for all of the options you choose."
   ]
  },
  {
   "cell_type": "code",
   "execution_count": 3,
   "metadata": {
    "vscode": {
     "languageId": "java"
    }
   },
   "outputs": [
    {
     "name": "stdout",
     "output_type": "stream",
     "text": [
      "First and Last Element Swap: \n",
      "3\n",
      "1\n",
      "2\n",
      "0\n",
      "Replacing All Elements w/ Zero: \n",
      "3\n",
      "1\n",
      "0\n",
      "0\n"
     ]
    }
   ],
   "source": [
    "public class ArrayMethods {\n",
    "    private int[] values = {0, 1, 2, 3};\n",
    "\n",
    "    public void printElements(){\n",
    "        for(int i = 0; i < values.length; i++){\n",
    "            System.out.println(values[i]);\n",
    "        }\n",
    "    }\n",
    "\n",
    "    public void swapElements(){\n",
    "        int last = values[values.length-1];\n",
    "        values[values.length-1] = values[0];\n",
    "        values[0] = last;\n",
    "    }\n",
    "\n",
    "    public void evenToZero(){\n",
    "        for(int i = 0; i < values.length; i++){\n",
    "            if (values[i] % 2 == 0){\n",
    "                values[i] = 0;\n",
    "            }\n",
    "        }\n",
    "    }\n",
    "\n",
    "    public static void main(String[] args){\n",
    "        \n",
    "        System.out.println(\"First and Last Element Swap: \");\n",
    "        ArrayMethods swapElements = new ArrayMethods();\n",
    "        swapElements.swapElements();\n",
    "        swapElements.printElements();\n",
    "\n",
    "        System.out.println(\"Replacing All Elements w/ Zero: \");\n",
    "        ArrayMethods evenToZero = new ArrayMethods();\n",
    "        swapElements.evenToZero();\n",
    "        swapElements.printElements();\n",
    "    }\n",
    "}\n",
    "ArrayMethods.main(null);"
   ]
  }
 ],
 "metadata": {
  "kernelspec": {
   "display_name": "Java",
   "language": "java",
   "name": "java"
  },
  "language_info": {
   "codemirror_mode": "java",
   "file_extension": ".jshell",
   "mimetype": "text/x-java-source",
   "name": "Java",
   "pygments_lexer": "java",
   "version": "17.0.4.1+1-LTS-2"
  },
  "orig_nbformat": 4,
  "vscode": {
   "interpreter": {
    "hash": "aee8b7b246df8f9039afb4144a1f6fd8d2ca17a180786b69acc140d282b71a49"
   }
  }
 },
 "nbformat": 4,
 "nbformat_minor": 2
}
