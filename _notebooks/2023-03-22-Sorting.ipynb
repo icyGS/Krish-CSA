{
 "cells": [
  {
   "attachments": {},
   "cell_type": "markdown",
   "metadata": {},
   "source": [
    "# Sorting Algorithm's\n",
    "\n",
    "- toc: true \n",
    "- badges: true\n",
    "- comments: true\n",
    "- categories: [college board]"
   ]
  },
  {
   "attachments": {},
   "cell_type": "markdown",
   "metadata": {},
   "source": [
    "# Generic Class"
   ]
  },
  {
   "cell_type": "code",
   "execution_count": null,
   "metadata": {
    "vscode": {
     "languageId": "java"
    }
   },
   "outputs": [],
   "source": [
    "abstract class Sort<T> {\n",
    "    String name;\n",
    "    \n",
    "    public Sort(String name) {\n",
    "        this.name = name;\n",
    "    }\n",
    "    \n",
    "    public String getName() {\n",
    "        return this.name;\n",
    "    }\n",
    "    \n",
    "    abstract public List<T> sort(List<T> list);\n",
    "  }"
   ]
  },
  {
   "attachments": {},
   "cell_type": "markdown",
   "metadata": {},
   "source": [
    "# Bubble Sort\n",
    "- Very simple\n",
    "- Goes through each element and compares to adjacent elements and switches if \n",
    "- High time complexity \n",
    "  - O(n^2)"
   ]
  },
  {
   "cell_type": "code",
   "execution_count": null,
   "metadata": {
    "vscode": {
     "languageId": "java"
    }
   },
   "outputs": [],
   "source": [
    "class BubbleSort<T extends Comparable> extends Sorter<T> {\n",
    "    public BubbleSort(){\n",
    "        super(\"Bubble Sort\");\n",
    "    }\n",
    "\n",
    "\n",
    "    public List <T> sort (List<T> list){\n",
    "        boolean val = true;\n",
    "        while true{\n",
    "            val = false;\n",
    "            for (int i=0; i<list.size()-1, i++){\n",
    "                if(list.get(i).compareTo(list.get(i+1)) > 0){\n",
    "                    T temp = list.get(i+1);\n",
    "                    list.set(i+1, list.get(i));\n",
    "                    list.set(i,temp);\n",
    "                    val = true;\n",
    "                }\n",
    "            }\n",
    "        }\n",
    "    }\n",
    "}"
   ]
  },
  {
   "attachments": {},
   "cell_type": "markdown",
   "metadata": {},
   "source": [
    "# Selection Sort\n",
    "- Goes through "
   ]
  }
 ],
 "metadata": {
  "kernelspec": {
   "display_name": "Java",
   "language": "java",
   "name": "java"
  },
  "language_info": {
   "codemirror_mode": "java",
   "file_extension": ".jshell",
   "mimetype": "text/x-java-source",
   "name": "Java",
   "pygments_lexer": "java",
   "version": "17.0.5+9-LTS-191"
  },
  "orig_nbformat": 4
 },
 "nbformat": 4,
 "nbformat_minor": 2
}
