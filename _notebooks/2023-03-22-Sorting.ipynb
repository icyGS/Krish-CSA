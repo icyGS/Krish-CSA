{
 "cells": [
  {
   "attachments": {},
   "cell_type": "markdown",
   "metadata": {},
   "source": [
    "# Sorting Algorithm's\n",
    "\n",
    "- toc: true \n",
    "- badges: true\n",
    "- comments: true\n",
    "- categories: [college board]"
   ]
  },
  {
   "attachments": {},
   "cell_type": "markdown",
   "metadata": {},
   "source": [
    "# Bubble Sort\n",
    "- Very simple\n",
    "- Goes through each element and compares to adjacent elements and switches if \n",
    "- High time complexity \n",
    "  - O(n^2)"
   ]
  },
  {
   "cell_type": "code",
   "execution_count": 54,
   "metadata": {
    "vscode": {
     "languageId": "java"
    }
   },
   "outputs": [
    {
     "name": "stdout",
     "output_type": "stream",
     "text": [
      "Unsorted:\n",
      "6 11 19 1 9 2 3  \n",
      "Sorted:\n",
      "1 2 3 6 9 11 19 \n",
      "Runtime: \n",
      "8373084 nanoseconds\n"
     ]
    }
   ],
   "source": [
    "public class BubbleSort{\n",
    "    public static void main(String[] args){\n",
    "        int[] list = {6, 11, 19, 1, 9, 2, 3};\n",
    "        int tmp = 0;\n",
    "\n",
    "        System.out.println(\"Unsorted:\");\n",
    "        for(int i = 0; i < list.length; i++){\n",
    "            System.out.print(list[i] + \" \");\n",
    "        }\n",
    "        System.out.println(\" \");\n",
    "\n",
    "        long startTime = System.nanoTime();\n",
    "        for (int i = 0; i < list.length; i++){\n",
    "            for (int j = 1; j < (list.length - i); j++){\n",
    "                if (list[j - 1] > list[j]){\n",
    "                    tmp = list[j-1];\n",
    "                    list[j-1] = list[j];\n",
    "                    list[j] = tmp;\n",
    "                }\n",
    "            }\n",
    "        }\n",
    "        System.out.println(\"Sorted:\");\n",
    "        for(int i = 0; i < list.length; i++){\n",
    "            System.out.print(list[i] + \" \");\n",
    "        }\n",
    "        long endTime   = System.nanoTime();\n",
    "        long totalTime = endTime - startTime;\n",
    "        System.out.println(\"\");\n",
    "        System.out.println(\"Runtime: \");\n",
    "        System.out.println(totalTime + \" nanoseconds\");\n",
    "    }\n",
    "}\n",
    "BubbleSort.main(null);"
   ]
  },
  {
   "attachments": {},
   "cell_type": "markdown",
   "metadata": {},
   "source": [
    "# Selection Sort\n",
    "- Goes value by value through entire list and looks for the smallest value\n",
    "- Swaps positions with that value\n",
    "- Goes through each value and checks each value\n",
    "- O(n^2) time complexity"
   ]
  },
  {
   "cell_type": "code",
   "execution_count": 55,
   "metadata": {
    "vscode": {
     "languageId": "java"
    }
   },
   "outputs": [
    {
     "name": "stdout",
     "output_type": "stream",
     "text": [
      "Unsorted:\n",
      "6 11 19 1 9 2 3  \n",
      "Sorted:\n",
      "1 2 3 6 9 11 19 \n",
      "Runtime: \n",
      "3155875 nanoseconds\n"
     ]
    }
   ],
   "source": [
    "public class SelectionSort{\n",
    "    public static void main(String[] args){\n",
    "        int[] list = {6, 11, 19, 1, 9, 2, 3};\n",
    "        int tmp = 0;\n",
    "\n",
    "        System.out.println(\"Unsorted:\");\n",
    "        for(int i = 0; i < list.length; i++){\n",
    "            System.out.print(list[i] + \" \");\n",
    "        }\n",
    "        System.out.println(\" \");\n",
    "\n",
    "        long startTime = System.nanoTime();\n",
    "\n",
    "        // Selection Sorting algorithm\n",
    "        \n",
    "        for (int i = 0; i < list.length - 1; i++){\n",
    "            int index = i;\n",
    "            for (int j = i + 1; j < list.length; j++){\n",
    "                if (list[j] < list[index]){\n",
    "                    index = j;\n",
    "                }\n",
    "            }\n",
    "            tmp = list[index];\n",
    "            list[index] = list[i];\n",
    "            list[i] = tmp;\n",
    "        }\n",
    "\n",
    "        // End of Selection Sorting algorithm\n",
    "        // Printing the sorted array\n",
    "\n",
    "        System.out.println(\"Sorted:\");\n",
    "        for(int i = 0; i < list.length; i++){\n",
    "            System.out.print(list[i] + \" \");\n",
    "        }\n",
    "        long endTime   = System.nanoTime();\n",
    "        long totalTime = endTime - startTime;\n",
    "        System.out.println(\"\");\n",
    "        System.out.println(\"Runtime: \");\n",
    "        System.out.println(totalTime + \" nanoseconds\");\n",
    "    }\n",
    "}\n",
    "SelectionSort.main(null);"
   ]
  },
  {
   "attachments": {},
   "cell_type": "markdown",
   "metadata": {},
   "source": [
    "# Insertion Sort\n",
    "- Linear algorithm\n",
    "- Goes through each element and looks if next element is less than it\n",
    "- If so, swaps\n",
    "- O(n^2) time complexity"
   ]
  },
  {
   "cell_type": "code",
   "execution_count": 56,
   "metadata": {
    "vscode": {
     "languageId": "java"
    }
   },
   "outputs": [
    {
     "name": "stdout",
     "output_type": "stream",
     "text": [
      "Unsorted:\n",
      "6 11 19 1 9 2 3  \n",
      "Sorted:\n",
      "1 2 3 6 9 11 19 \n",
      "Runtime: \n",
      "4508625 nanoseconds\n"
     ]
    }
   ],
   "source": [
    "public class InsertionSort{\n",
    "    public static void main(String[] args){\n",
    "        int[] list = {6, 11, 19, 1, 9, 2, 3};\n",
    "        int tmp = 0;\n",
    "\n",
    "        System.out.println(\"Unsorted:\");\n",
    "        for(int i = 0; i < list.length; i++){\n",
    "            System.out.print(list[i] + \" \");\n",
    "        }\n",
    "        System.out.println(\" \");\n",
    "\n",
    "        long startTime = System.nanoTime();\n",
    "\n",
    "        // Insertion Sorting algorithm\n",
    "        \n",
    "        for (int i = 1; i < list.length; i++){\n",
    "            int temp = list[i];\n",
    "            int j = i - 1;\n",
    "            while (j >= 0 && list[j] > temp){\n",
    "                list[j + 1] = list[j];\n",
    "                j = j - 1;\n",
    "            }\n",
    "            list[j + 1] = temp;\n",
    "        }\n",
    "\n",
    "        // End of Insertion Sorting algorithm\n",
    "        // Printing the sorted array\n",
    "\n",
    "        System.out.println(\"Sorted:\");\n",
    "        for(int i = 0; i < list.length; i++){\n",
    "            System.out.print(list[i] + \" \");\n",
    "        }\n",
    "        long endTime   = System.nanoTime();\n",
    "        long totalTime = endTime - startTime;\n",
    "        System.out.println(\"\");\n",
    "        System.out.println(\"Runtime: \");\n",
    "        System.out.println(totalTime + \" nanoseconds\");\n",
    "    }\n",
    "}\n",
    "InsertionSort.main(null);"
   ]
  },
  {
   "attachments": {},
   "cell_type": "markdown",
   "metadata": {},
   "source": [
    "# Big O analysis\n",
    "- Fastest is merge sort\n",
    "- 2nd fastest is selection sort\n",
    "- 3rd fastest is insertion sort\n",
    "- 4th fastest is bubble sort\n",
    "\n",
    "### Conclusion\n",
    "- The fastest algorithm is merge sort\n",
    "  - Makes sense as it has a O(n*log(n)) time complexity\n",
    "- Slowest is bubble sort\n",
    "  - Has a O(n^2) time complexity making it inefficient in comparison"
   ]
  }
 ],
 "metadata": {
  "kernelspec": {
   "display_name": "Java",
   "language": "java",
   "name": "java"
  },
  "language_info": {
   "codemirror_mode": "java",
   "file_extension": ".jshell",
   "mimetype": "text/x-java-source",
   "name": "Java",
   "pygments_lexer": "java",
   "version": "17.0.5+9-LTS-191"
  },
  "orig_nbformat": 4
 },
 "nbformat": 4,
 "nbformat_minor": 2
}
