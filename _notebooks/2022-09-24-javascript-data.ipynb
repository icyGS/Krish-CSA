{
 "cells": [
  {
   "cell_type": "markdown",
   "metadata": {},
   "source": [
    "# JavaScript UI Development\n",
    "\n",
    "- toc: true \n",
    "- badges: true\n",
    "- comments: true\n",
    "- categories: [PBL]"
   ]
  },
  {
   "cell_type": "code",
   "execution_count": 3,
   "metadata": {},
   "outputs": [],
   "source": [
    "function logItType(output) {\n",
    "    console.log(typeof output, \";\", output); //\"typeof\" keyword returns the type.\n",
    "}"
   ]
  },
  {
   "cell_type": "code",
   "execution_count": 6,
   "metadata": {},
   "outputs": [
    {
     "name": "stdout",
     "output_type": "stream",
     "text": [
      "object ; Person {\n",
      "  name: 'Mr M',\n",
      "  email: 'jmortensen@powayusd.com',\n",
      "  classOf: 1977,\n",
      "  role: '' }\n",
      "string ; {\"name\":\"Mr M\",\"ghID\":\"jmortensen@powayusd.com\",\"classOf\":1977,\"role\":\"\"}\n",
      "object ; Person {\n",
      "  name: 'Mr M',\n",
      "  email: 'jmortensen@powayusd.com',\n",
      "  classOf: 1977,\n",
      "  role: 'Teacher' }\n",
      "string ; {\"name\":\"Mr M\",\"ghID\":\"jmortensen@powayusd.com\",\"classOf\":1977,\"role\":\"Teacher\"}\n"
     ]
    }
   ],
   "source": [
    "function Person(name, email, classOf) {\n",
    "    this.name = name;\n",
    "    this.email = email;\n",
    "    this.classOf = classOf;\n",
    "    this.role = \"\";\n",
    "}\n",
    "\n",
    "Person.prototype.setRole = function(role) {\n",
    "    this.role = role;\n",
    "}\n",
    "\n",
    "Person.prototype.toJSON = function() {\n",
    "    const obj = {name: this.name, ghID: this.email, classOf: this.classOf, role: this.role};\n",
    "    const json = JSON.stringify(obj);\n",
    "    return json;\n",
    "}\n",
    "\n",
    "// make a new Person and assign to variable teacher\n",
    "var teacher = new Person(\"Mr M\", \"jmortensen@powayusd.com\", 1977);  // object type is easy to work with in JavaScript\n",
    "logItType(teacher);  // before role\n",
    "logItType(teacher.toJSON());  // ok to do this even though role is not yet defined\n",
    "\n",
    "// output of Object and JSON/string associated with Teacher\n",
    "teacher.setRole(\"Teacher\");   // set the role\n",
    "logItType(teacher); \n",
    "logItType(teacher.toJSON());"
   ]
  },
  {
   "cell_type": "code",
   "execution_count": 10,
   "metadata": {},
   "outputs": [
    {
     "name": "stdout",
     "output_type": "stream",
     "text": [
      "object ; [ Person {\n",
      "    name: 'Mr M',\n",
      "    email: 'jmortensen@powayusd.com',\n",
      "    classOf: 1977,\n",
      "    role: 'Teacher' },\n",
      "  Person {\n",
      "    name: 'Krish Patil',\n",
      "    email: 'krishpatil1019@gmail.com',\n",
      "    classOf: 2024,\n",
      "    role: 'Student' },\n",
      "  Person {\n",
      "    name: 'Don Tran',\n",
      "    email: 'donqt15@gmail.com',\n",
      "    classOf: 2024,\n",
      "    role: 'Student' },\n",
      "  Person {\n",
      "    name: 'Nathan Manango',\n",
      "    email: 'prorichyman@gmail.com',\n",
      "    classOf: 2024,\n",
      "    role: 'Student' },\n",
      "  Person {\n",
      "    name: 'Nicholas Ramos',\n",
      "    email: 'unknown',\n",
      "    classOf: 2024,\n",
      "    role: 'Student' } ]\n",
      "string ; Mr M\n",
      "string ; {\"name\":\"Mr M\",\"ghID\":\"jmortensen@powayusd.com\",\"classOf\":1977,\"role\":\"Teacher\"}\n",
      "object ; { name: 'Mr M',\n",
      "  ghID: 'jmortensen@powayusd.com',\n",
      "  classOf: 1977,\n",
      "  role: 'Teacher' }\n"
     ]
    }
   ],
   "source": [
    "var students = [ \n",
    "    new Person(\"Krish Patil\", \"krishpatil1019@gmail.com\", 2024),\n",
    "    new Person(\"Don Tran\", \"donqt15@gmail.com\", 2024),\n",
    "    new Person(\"Nathan Manango\", \"prorichyman@gmail.com\", 2024),\n",
    "    new Person(\"Nicholas Ramos\", \"unknown\", 2024),\n",
    "];\n",
    "\n",
    "\n",
    "function Classroom(teacher, students){ \n",
    "\n",
    "    teacher.setRole(\"Teacher\");\n",
    "    this.teacher = teacher;\n",
    "    this.classroom = [teacher];\n",
    "\n",
    "    this.students = students;\n",
    "    this.students.forEach(student => { student.setRole(\"Student\"); this.classroom.push(student); });\n",
    "\n",
    "    this.json = [];\n",
    "    this.classroom.forEach(person => this.json.push(person.toJSON()));\n",
    "}\n",
    "\n",
    "\n",
    "compsci = new Classroom(teacher, students);\n",
    "\n",
    "\n",
    "logItType(compsci.classroom);  \n",
    "logItType(compsci.classroom[0].name);  \n",
    "logItType(compsci.json[0]);  \n",
    "logItType(JSON.parse(compsci.json[0]));"
   ]
  },
  {
   "cell_type": "code",
   "execution_count": 11,
   "metadata": {},
   "outputs": [
    {
     "data": {
      "text/html": [
       "<div style='display:inline-block;border: 2px solid white;box-shadow: 0.8em 0.4em 0.4em black;'><table><tr><th><mark>Name</mark></th><th><mark>Email</mark></th><th><mark>Class Of</mark></th><th><mark>Role</mark></th></tr><tr><td>Mr M</td><td>jmortensen@powayusd.com</td><td>1977</td><td>Teacher</td><tr><tr><td>Krish Patil</td><td>krishpatil1019@gmail.com</td><td>2024</td><td>Student</td><tr><tr><td>Don Tran</td><td>donqt15@gmail.com</td><td>2024</td><td>Student</td><tr><tr><td>Nathan Manango</td><td>prorichyman@gmail.com</td><td>2024</td><td>Student</td><tr><tr><td>Nicholas Ramos</td><td>unknown</td><td>2024</td><td>Student</td><tr></table></div>"
      ]
     },
     "execution_count": 11,
     "metadata": {},
     "output_type": "execute_result"
    }
   ],
   "source": [
    "Classroom.prototype._toHtml = function() {\n",
    "    var style = (\n",
    "      \"display:inline-block;\" +\n",
    "      \"border: 2px solid white;\" +\n",
    "      \"box-shadow: 0.8em 0.4em 0.4em black;\"\n",
    "    );\n",
    "  \n",
    "    var body = \"\";\n",
    "    \n",
    "    body += \"<tr>\";\n",
    "    body += \"<th><mark>\" + \"Name\" + \"</mark></th>\";\n",
    "    body += \"<th><mark>\" + \"Email\" + \"</mark></th>\";\n",
    "    body += \"<th><mark>\" + \"Class Of\" + \"</mark></th>\";\n",
    "    body += \"<th><mark>\" + \"Role\" + \"</mark></th>\";\n",
    "    body += \"</tr>\";\n",
    "\n",
    "    for (var row of compsci.classroom) {\n",
    "\n",
    "      body += \"<tr>\";\n",
    "\n",
    "      body += \"<td>\" + row.name + \"</td>\";\n",
    "      body += \"<td>\" + row.email + \"</td>\";\n",
    "      body += \"<td>\" + row.classOf + \"</td>\";\n",
    "      body += \"<td>\" + row.role + \"</td>\";\n",
    "      body += \"<tr>\";\n",
    "    }\n",
    "  \n",
    "\n",
    "    return (\n",
    "      \"<div style='\" + style + \"'>\" +\n",
    "        \"<table>\" +\n",
    "          body +\n",
    "        \"</table>\" +\n",
    "      \"</div>\"\n",
    "    );\n",
    "  \n",
    "  };\n",
    "  \n",
    "\n",
    "  $$.html(compsci._toHtml());"
   ]
  }
 ],
 "metadata": {
  "kernelspec": {
   "display_name": "JavaScript (Node.js)",
   "language": "javascript",
   "name": "javascript"
  },
  "language_info": {
   "file_extension": ".js",
   "mimetype": "application/javascript",
   "name": "javascript",
   "version": "10.13.0"
  },
  "orig_nbformat": 4,
  "vscode": {
   "interpreter": {
    "hash": "31f2aee4e71d21fbe5cf8b01ff0e069b9275f58929596ceb00d14d90e3e16cd6"
   }
  }
 },
 "nbformat": 4,
 "nbformat_minor": 2
}
